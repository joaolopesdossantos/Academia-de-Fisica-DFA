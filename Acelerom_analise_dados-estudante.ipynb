{
 "cells": [
  {
   "cell_type": "markdown",
   "id": "ff7b141a",
   "metadata": {},
   "source": [
    " <img src=\"Images/fc.pos.jpg\" class=\"bg-primary\" align = 'left' width=200/>"
   ]
  },
  {
   "cell_type": "markdown",
   "id": "fa9b20c9",
   "metadata": {},
   "source": [
    "# Academia de Física 2025\n",
    "## Análise de Dados e o Sensor de Aceleração do Telemóvel\n"
   ]
  },
  {
   "cell_type": "code",
   "execution_count": null,
   "id": "cd6378f3",
   "metadata": {},
   "outputs": [],
   "source": [
    "%matplotlib inline                                     \n",
    "import numpy as np                    # modulo numérico , essencial para trabalho cientifico; chamado np\n",
    "import matplotlib.pyplot as plt \n",
    "import scipy.stats as st"
   ]
  },
  {
   "cell_type": "markdown",
   "id": "121421c1",
   "metadata": {},
   "source": [
    "## Sumário\n",
    "Os telemóveis atuais (_smart phones_) dispoẽm de um conjunto alargado de sensores, necessários para os padrões de funcionamento que o consumidor espera deste produto. \n",
    "\n",
    "Neste trabalho, recorremos a uma _App_ para aceder diretamente aos dados do sensor de aceleração. Este sensor é vetorial e mede as três componentes da aceleração da gravidade, segundo o eixo $Oz$ perpendicular ao écran, e os eixos $Ox$ e $Oy$ no plano do écran. Com o telemóvel em repouso em várias posições, recolhemos os dados das três componentes, durante alguns segundos, evidenciando a existência de ruído aleatório, que analisamos com conceitos de estatística.  "
   ]
  },
  {
   "cell_type": "markdown",
   "id": "af167171",
   "metadata": {},
   "source": [
    "### Experiência 1\n",
    "Este trabalho é baseado no artigo da [ref. 1](#ref1). Usámos a app _PhyPhox_ que regista os valores da aceleração da gravidade. O sensor foi configurado para a opção de  `timed run` com um atraso de 3 s   e um tempo de recolha de dados de 50 segundos.Durante a experiência o telemóvel esteve imóvel pousado com o ecrán para cima, sobre uma mesa.\n",
    "\n",
    "Os eixos do telemóvel são os indicados na figura\n",
    "\n",
    "<img src=\"Images/eixos-tlm.png\" width=300\n",
    "     align='center'/> \n",
    "\n",
    "Reproduzido de [ref. 2](#ref2) \n",
    "\n",
    "\n",
    "Os resultados das medições das 3 componentes da aceleração foram exportados na forma de ficheiro `Excel` para a _cloud_ e descarregados localmente. Para importação e processamento no Júpiter o ficheiro excel deve ser guardado no fomato _.csv_ (comma separated values). Estes dados são  lidos e representados graficamente na célula seguinte. "
   ]
  },
  {
   "cell_type": "code",
   "execution_count": null,
   "id": "8cec9720",
   "metadata": {},
   "outputs": [],
   "source": [
    "dados1=np.loadtxt(\"Dados/aceleracao50.csv\",delimiter=\",\",skiprows=1)\n",
    "len(dados1[:,0])"
   ]
  },
  {
   "cell_type": "code",
   "execution_count": null,
   "id": "83c69ea4",
   "metadata": {},
   "outputs": [],
   "source": [
    "dados1=np.loadtxt(\"Dados/aceleracao50.csv\",delimiter=\",\",skiprows=1) # salta a primeira linha de cabeçalhos. \n",
    "#\n",
    "#\n",
    "plt.figure(figsize=(6,14))\n",
    "plt.subplot(311)                                      # 331-> 3 linhas, coluna 1,  gráfico 1\n",
    "plt.plot(dados1[:,0],dados1[:,1],'b-',linewidth=1,ms=2)    # a_x vs tempo\n",
    "plt.title(r'$a_x$',fontsize=14)\n",
    "plt.xlabel(\"time\")\n",
    "plt.xlim(.5,1.5)                                       # representacao de 1 segundo de dados\n",
    "plt.grid(True)\n",
    "plt.subplot(312)\n",
    "plt.plot(dados1[:,0],dados1[:,2],'r-',linewidth=1)     # a_y vs tempo\n",
    "plt.title(r'$a_y$',fontsize=14)\n",
    "plt.xlabel(\"time\")\n",
    "plt.grid(True)\n",
    "plt.subplot(313)\n",
    "plt.plot(dados1[:,0],dados1[:,3],'g-',linewidth=1)     # a_z vs tempo\n",
    "plt.title(r'$a_z$',fontsize=14)\n",
    "plt.xlabel(\"time / s \")\n",
    "plt.grid(True)\n",
    "\n"
   ]
  },
  {
   "cell_type": "code",
   "execution_count": null,
   "id": "17e7e08d",
   "metadata": {},
   "outputs": [],
   "source": [
    "#sintaxe explícita\n",
    "dados1=np.loadtxt(\"Dados/aceleracao50.csv\",delimiter=\",\",skiprows=1) # salta a primeira linha de cabeçalhos. \n",
    "#\n",
    "#\n",
    "fig, ax =plt.subplots(3,1, figsize=(6,14),layout='constrained')     # 3,1-> 3 linhas,  1 coluna 1, \n",
    "#\n",
    "ax[0].set_ylabel(r'$a_x$',fontsize=14) \n",
    "ax[0].set_xlabel(\"time\")\n",
    "ax[0].set_xlim([.5,1.5])\n",
    "ax[0].grid(True)\n",
    "ax[0].plot(dados1[:,0],dados1[:,1],'b-',linewidth=1,ms=2)    # a_x vs tempo\n",
    "#\n",
    "ax[1].set_ylabel(r'$a_y$',fontsize=14) \n",
    "ax[1].set_xlabel(\"time\")\n",
    "#ax[1].set_xlim([.5,1.5])\n",
    "ax[1].grid(True)\n",
    "ax[1].plot(dados1[:,0],dados1[:,2],'g-',linewidth=1,ms=2)    # a_y vs tempo\n",
    "#\n",
    "ax[2].set_ylabel(r'$a_z$',fontsize=14) \n",
    "ax[2].set_xlabel(\"time\")\n",
    "#ax[2].set_xlim([.5,1.5])\n",
    "ax[2].grid(True)\n",
    "ax[2].plot(dados1[:,0],dados1[:,2],'r-',linewidth=1,ms=2)    # a_z vs tempo\n",
    "fig.suptitle('PhyPhox data')\n"
   ]
  },
  {
   "cell_type": "markdown",
   "id": "8c6a3c0d",
   "metadata": {},
   "source": [
    "<div class=\"alert alert-block alert-warning\">\n",
    "    <b>Parte 1</b>\n",
    "    <p> Usa o telemóvel do teu grupo e tenta reproduzir o procedimento acima descrito. Obtém e representa graficamente a tua própria série de dados. </p>   \n",
    "</div>"
   ]
  },
  {
   "cell_type": "code",
   "execution_count": null,
   "id": "34d68692",
   "metadata": {},
   "outputs": [],
   "source": [
    "# usa esta célula para fazer a primeira parte da experiência.\n"
   ]
  },
  {
   "cell_type": "markdown",
   "id": "9e4c6aff",
   "metadata": {},
   "source": [
    "<div class=\"alert alert-block alert-info\">\n",
    "<b>Pergunta:</b> Qual é a taxa de aquisição do teu sensor? Quantos valores regista por segundo? qual é o intervalo de tempo entre registos sucessivos?\n",
    "</div>"
   ]
  },
  {
   "cell_type": "markdown",
   "id": "9b1e4697",
   "metadata": {},
   "source": [
    "### Análise de dados\n",
    "Apesar de teres o telemóvel fixo, os valores  de aceleração variam sem ordem discernível, flutuam aleatóriamente, de instante para instante. Que podemos então dizer sobre a aceleração da gravidade, por exemplo  no caso do eixo $Oz$? Qual é o seu valor?\n",
    "Na presença de um sequência de observações de uma mesma grandeza, sem alterações de condições, a hipótese mais comum é que cada observação, $a_i$, é dada pela expressão\n",
    "\n",
    "$$\n",
    "a_i = a+\\epsilon_i\n",
    "$$\n",
    "\n",
    "em que $a$ é o valor real da grandeza (invariável de observação para observação) e $\\epsilon_i$ é um **erro** de valor  desconhecido, mas que varia de maneira aleatória entre duas observações. Sobre este erro fazemos a hipótese que tem média nula para muitas observações, por cancelamento entre valores positivos e negativos. Assim a melhor estimativa para o valor real é obtido tomando a média das $N$ observações\n",
    "\n",
    "$$\n",
    " \\overline{a}\\equiv\\frac{a_1+a_2+\\dots+a_N}{N} =\\frac{1}{N}\\sum_{i=1}^N a_i =a + \\frac{1}{N}\\sum_{i=1}^N \\epsilon _i\\approx a\n",
    "$$"
   ]
  },
  {
   "cell_type": "code",
   "execution_count": null,
   "id": "5e6b8ebd",
   "metadata": {},
   "outputs": [],
   "source": [
    "componente=3\n",
    "gmedia=np.sum(dados1[:,componente])/len(dados1[:,componente])\n",
    "print(r'$a_z$ = %7.5f m s^(-2)' %  gmedia)                 #imprimir na forma de float, 6 espaços e 4 casas decimais\n",
    " "
   ]
  },
  {
   "cell_type": "code",
   "execution_count": null,
   "id": "7e67b364",
   "metadata": {},
   "outputs": [],
   "source": [
    "componente=3\n",
    "gmedia=np.average(dados1[:,componente])    #maneira mais expedita de calcular a média\n",
    "print('%6.4f m s^(-2)' %  gmedia)\n",
    " "
   ]
  },
  {
   "cell_type": "markdown",
   "id": "4643f968",
   "metadata": {},
   "source": [
    "A média não nos dá toda a informação. Imaginemos que em vez de 50 segundos, tinhamos recolhido dados apenas durante 1 segundo. A média seria a mesma? quanto poderia variar?\n",
    " \n",
    "Para responder a esta pergunta temos de medir a variação dos valores relativamente à média. A medida mais comum é a da _variância_, a média dos quadrados das variações em relação à média.\n",
    "\n",
    "$$\n",
    " \\Delta a^2 =\\frac{1}{N}\\sum_{i=1}^N (a_i-\\overline{a})^2\n",
    "$$\n",
    "Imagina que fazes mais uma medida de aceleração. Quanto podemos esperar que se desvie da média? A _incerteza_ em **um**  valor de $a$ é estimada pelo _desvio quadrático médio_. \n",
    "\n",
    "$$\n",
    "           \\Delta a \\equiv \\sqrt{\\Delta a^2}=\\sqrt{\\frac{1}{N}\\sum_{i=1}^N (a_i-\\overline{a})^2}\n",
    "$$           \n",
    "           \n"
   ]
  },
  {
   "cell_type": "markdown",
   "id": "2bbaec87",
   "metadata": {},
   "source": [
    "<div class=\"alert alert-block alert-info\">\n",
    "<b>Pergunta:</b> Porque quadramos os desvios? Não podíamos simplesmente calcular a médias dos desvios?\n",
    "</div>"
   ]
  },
  {
   "cell_type": "code",
   "execution_count": null,
   "id": "aa96d3ae",
   "metadata": {},
   "outputs": [],
   "source": [
    "componente=3\n",
    "gmedia, var =np.average(dados1[:,componente]),np.var(dados1[:,componente]) # exemplo de unpacking\n",
    "print('media=%6.4f m s^(-2); var =%6.4f' %  (gmedia, var))\n",
    "std=np.sqrt(var)\n",
    "print( 'std=%6.4f' % std) "
   ]
  },
  {
   "cell_type": "code",
   "execution_count": null,
   "id": "32af78f0",
   "metadata": {},
   "outputs": [],
   "source": [
    "linha1=gmedia+2*std*np.ones(len(dados1[:,0]),float)\n",
    "linha2=gmedia-2*std*np.ones(len(dados1[:,0]),float)\n",
    "plt.plot(dados1[:,0],dados1[:,3],'go', dados1[:,0],linha1 , 'r--', dados1[:,0], linha2,'r--', linewidth=2,ms=2)\n",
    "plt.title(r'$a_z$',fontsize=14)\n",
    "plt.xlabel(\"time / s \")\n",
    "plt.xlim(1,3)                                 # 2 s de dados\n",
    "plt.grid(True)"
   ]
  },
  {
   "cell_type": "markdown",
   "id": "313daa0a",
   "metadata": {},
   "source": [
    "Do gráfico anterior fica claro que a maioria das observações está entre $\\overline{a}-\\sigma$ e $\\overline{a}+\\sigma$. $\\sigma=\\Delta a$ é uma designação comum para o desvio quadrático médio. Mas que fração fica de fora deste intervalo? Poderemos contar? Sim,  com um pouco de programação em _Python_."
   ]
  },
  {
   "cell_type": "code",
   "execution_count": null,
   "id": "3cb990ee",
   "metadata": {},
   "outputs": [],
   "source": [
    "range(len(dados1))"
   ]
  },
  {
   "cell_type": "code",
   "execution_count": null,
   "id": "e4d787b3",
   "metadata": {},
   "outputs": [],
   "source": [
    "count=0\n",
    "for i in range(len(dados1)):\n",
    "    if dados1[i,3]>gmedia+std:\n",
    "        count +=1                 # forma abreviada de count=count+1\n",
    "    elif  dados1[i,3]<gmedia-std:\n",
    "        count +=1\n",
    "print(count/len(dados1))\n",
    "        "
   ]
  },
  {
   "cell_type": "markdown",
   "id": "0056626b",
   "metadata": {},
   "source": [
    "Vemos que cerca de 1/3 (0.333) dos valores estão fora do intervalo de um desvio quadrático médio à volta do valor médio. "
   ]
  },
  {
   "cell_type": "markdown",
   "id": "cecd9c64",
   "metadata": {},
   "source": [
    "<div class=\"alert alert-block alert-warning\">\n",
    "    <b>Exercício 1</b>\n",
    "    <p> Estuda o código da célula acima. Tenta modificá-lo para saber a fração de valores que se afastam da média mais do que $2\\sigma$</p>   \n",
    "</div>"
   ]
  },
  {
   "cell_type": "code",
   "execution_count": null,
   "id": "30bfc45e",
   "metadata": {},
   "outputs": [],
   "source": [
    "# faz aqui o teu exercício\n"
   ]
  },
  {
   "cell_type": "markdown",
   "id": "5983c1b4",
   "metadata": {},
   "source": [
    "Uma informação ainda mais completa pode ser obtida estudando a maneira como se distribuem os valores das medidas. Por outras palavras, qual é a fração de valores de aceleração que cai num intervalo arbitrário $[y_i,y_{i+1}]$? Felizmente, no `pyplot`  temos uma função que faz essa conta por nós: a função `hist` (de histograma).  Tem como primeiro argumento a lista de valores de aceleração e como segundo o número de intervalos _bins_ em que queremos dividir a gama de variação dos valores de aceleração. Devolve:\n",
    " - as contagens de valores em cada _bin_ (primeiro valor)\n",
    " - os limites inferiores de cada bin ((segundo valor)\n",
    " - um gráfico (histograma) em que o eixo de abcissas são os pontos médios de cada intervalo onde se centra uma coluna de altura proporcional à fração de valores nesse intervalo. "
   ]
  },
  {
   "cell_type": "code",
   "execution_count": null,
   "id": "ba8f4d14",
   "metadata": {},
   "outputs": [],
   "source": [
    "# opção density=True devolve colunas com área proporcional à fração de valores nesse intervalo.\n",
    "hheights,bins,patches =plt.hist(dados1[:,3], bins=15, rwidth=.90, density=True)\n",
    "plt.grid(True)"
   ]
  },
  {
   "cell_type": "code",
   "execution_count": null,
   "id": "38c2a4ae",
   "metadata": {},
   "outputs": [],
   "source": [
    "hheights"
   ]
  },
  {
   "cell_type": "code",
   "execution_count": null,
   "id": "0f8f1f08",
   "metadata": {},
   "outputs": [],
   "source": [
    "bins"
   ]
  },
  {
   "cell_type": "markdown",
   "id": "4af6e657",
   "metadata": {},
   "source": [
    "Não deve ser a primeira vez que vês esta forma de sino do histograma. Esta distribuição de valores em torno da média é tão comum, que se chama distribuição **normal**. A altura de cada coluna, quando o número de medições se torna muito grande (tende para infinito), tende para um limite dado por uma expressão matemática conhecida, a função gaussiana.  A forma exata não nos interessa de momento, mas é importante notar que fica totalmente determinada pela média e pelo desvio quadrático médio. É existência deste limite que nos permite dizer que o número esperado de medições no intervalor de 1 $\\sigma$ da média é cerca de 2/3 (mais exatamente 68.3%) e de $2\\sigma$   cerca de 95%.  "
   ]
  },
  {
   "cell_type": "code",
   "execution_count": null,
   "id": "5012cd85",
   "metadata": {},
   "outputs": [],
   "source": [
    "mynorm= st.norm(loc=gmedia,scale=std)\n",
    "val,bins,fig= plt.hist(dados1[:,3], bins=15, rwidth=.9,label='histograma', density=True)\n",
    "x=  (bins[1:]+bins[:-1])/2.                                 # pontos médios de cada intervalo\n",
    "distvals = mynorm.pdf(x)                                    # valores da dist normal \n",
    "plt.plot(x,distvals,'r-o',  linewidth=1, label='normal pdf')\n",
    "plt.legend()"
   ]
  },
  {
   "cell_type": "markdown",
   "id": "bd433134",
   "metadata": {},
   "source": [
    "<div class=\"alert alert-block alert-warning\">\n",
    "    <b>Parte 2 </b>. Repete a análise aqui feita, agora para os dados que obtiveste. \n",
    "    Copia as células de que precisares e modifica-as adequadamente. Apura a valor médio e desvio quadrático médio dos teus dados.\n",
    "    <p>"
   ]
  },
  {
   "cell_type": "code",
   "execution_count": null,
   "id": "df8d16e4",
   "metadata": {},
   "outputs": [],
   "source": [
    "# faz aqui o teu exercício\n"
   ]
  },
  {
   "cell_type": "markdown",
   "id": "208afc64",
   "metadata": {},
   "source": [
    "### Incerteza na média\n",
    "Para terminar, falta referir uma conceito muito importante. Acima vimos que o desvio quadrático médio quantifica a _incerteza_ no valor de **uma** só  medida. Mas  quando temos várias medidas podemos fazer a média e tomá-la como a nossa melhor aproximação o valor real da grandeza. A questão é saber qual é a _incerteza da média_? A pergunta faz sentido; se tomarmos as primeiras 10 medidas e comparar-mos com as 10 seguintes, não obtemos o mesmo valor."
   ]
  },
  {
   "cell_type": "code",
   "execution_count": null,
   "id": "56f095c0",
   "metadata": {},
   "outputs": [],
   "source": [
    "componente=3\n",
    "gmedia1 =np.average(dados1[:10,componente])\n",
    "gmedia2 =np.average(dados1[10:20,componente])\n",
    "gmedia1,gmedia2"
   ]
  },
  {
   "cell_type": "markdown",
   "id": "c87e471a",
   "metadata": {},
   "source": [
    "Para erros com uma distribuição normal a resposta à pergunta é simples; a incerteza  (desvio quadrático médio) da **média** $\\overline{a}$ de $N$ medidas é a incerteza (desvio quadrático médio) da grandeza $a$, _dividido por raiz quadrada_ de $N$, $\\sqrt{N}$\n",
    "\n",
    "$$\n",
    "\\Delta \\overline{a} = \\frac{\\sigma}{\\sqrt{N}}\n",
    "$$\n",
    "Como temos quase 10000 medições de aceleração, podemos fazer médias de grupos de 100 e comparar a variação das médias com a variação de cada medição individual. O gráfico seguinte mostra 90 médias de $N=100$ medições , e representa-as entre linhas correspondentes a $\\pm \\sigma$ (azul) e $\\pm \\sigma/\\sqrt{100}=\\pm \\sigma/10$ (vermelho). \n",
    "\n",
    "**Nota Importante**\n",
    " - o desvio padrão de uma amostra dá uma indicação de quanto **uma** medição se pode desviar da média.\n",
    " - O desvio padrão da **média** (de $N$ medições) dá uma indicaçãode quanto a **média** pode variar se fizermos outras $N$ medições independentes. "
   ]
  },
  {
   "cell_type": "code",
   "execution_count": null,
   "id": "8f3b64c7",
   "metadata": {},
   "outputs": [],
   "source": [
    "fig,axes=plt.subplots(figsize=(6,4))\n",
    "medias=np.zeros(90,float)\n",
    "line1=np.ones(90,float)*(gmedia+std)\n",
    "line2=np.ones(90,float)*(gmedia-std)\n",
    "line3=np.ones(90,float)*(gmedia+std/10)\n",
    "line4=np.ones(90,float)*(gmedia-std/10)\n",
    "for k in range(90):\n",
    "    medias[k]=np.average(dados1[k*100:(k+1)*100,3])\n",
    "# gráficos\n",
    "axes.plot(medias, 'gs',ms=3,label='médias')\n",
    "axes.plot(line1,'b--',label=r'$\\pm \\sigma$')\n",
    "axes.plot(line2,'b--')\n",
    "axes.plot(line3,'r--',label=r'$\\pm \\sigma/10$')\n",
    "axes.plot(line4,'r--')\n",
    "plt.legend()\n",
    "plt.grid(True)\n",
    "plt.title(r'$\\overline{a_z}$');\n"
   ]
  },
  {
   "cell_type": "markdown",
   "id": "51668ead",
   "metadata": {},
   "source": [
    "Estas considerações explicam a maneira como é indicado o resultado de um conjunto de medições, com tratamento estatístico dos erros: indicamos como valor da observável a média das medições,  e como incerteza o desvio quadrático  médio _das médias_; neste caso $\\sigma=0.042$ e $\\sigma_{media}=\\sigma/\\sqrt{10^4}=4.2\\times 10^{-4}$.\n",
    "\n",
    "$$\n",
    "a_z = 9.9069 \\pm 0.0004\\  {m}\\  s^{-2}\n",
    "$$\n",
    "\n",
    "__Nota 1__: Organizações internacionais que mantêm os padrões de medida recomendam o uso de 2 vezes o desvio padrão na expressão da incerteza;\n",
    "\n",
    "__Nota 2__: na expressão do cálculo da variância, encontrarás em muitas publicações a expressão \n",
    "\n",
    "$$\n",
    " \\Delta a^2 =\\frac{1}{N-1}\\sum_{i=1}^N (a_i-\\overline{a})^2\n",
    "$$\n",
    "com um denominador $N-1$ em vez de $N$. A diferença tem a ver com a variância da _amostra_ (com $1/N$) e a melhor estimativa da variância da _população_ (um conjunto virtualmente ilimitado de medições) com $1/(N-1)$. Neste momento isso não precisa de nos preocupar. "
   ]
  },
  {
   "cell_type": "markdown",
   "id": "16ae4fd7",
   "metadata": {},
   "source": [
    "## Experiência 2: Telemóvel na mão"
   ]
  },
  {
   "cell_type": "markdown",
   "id": "952c2b00",
   "metadata": {},
   "source": [
    "<div class=\"alert alert-block alert-warning\">\n",
    "    <b>Parte 3 </b>. Repete a  experiência, agora com o telemóvel pousado na mão. Tenta manter o telemóvel parado na horizontal. Determina a média e a variância da aceleração segundo <i>z</i>. \n",
    " <p> Interpreta os resultados; analisa também as acelerações nas outras direções para ver se foste bem sucedido em manter o telemóvel horizontal </p>"
   ]
  },
  {
   "cell_type": "code",
   "execution_count": null,
   "id": "30a8e6ec",
   "metadata": {},
   "outputs": [],
   "source": [
    "# faz aqui o teu exercício\n"
   ]
  },
  {
   "cell_type": "markdown",
   "id": "6928bbc6",
   "metadata": {},
   "source": [
    "### Experiência 3: Telemóvel inclinado"
   ]
  },
  {
   "cell_type": "markdown",
   "id": "529aca9c",
   "metadata": {},
   "source": [
    "<div class=\"alert alert-block alert-warning\">\n",
    "    <b>Parte 4 </b>. Pousa o telemóvel numa superfície inclinada. Usa o sensor de aceleração para determinar o ângulo do eixo <i>z</i> do telemóvel com a vertical.  \n",
    "</div>"
   ]
  },
  {
   "cell_type": "code",
   "execution_count": null,
   "id": "cde6830f",
   "metadata": {},
   "outputs": [],
   "source": [
    "# faz aqui o teu exercício\n"
   ]
  },
  {
   "cell_type": "markdown",
   "id": "2d5c7355",
   "metadata": {},
   "source": [
    "# Referências\n",
    " 1.  Martín Monteiro, Cecila Stari, Cecila Cabeza, and Arturo C. Martí. _Using mobile-\n",
    "device sensors to teach students error analysis._ American Journal of Physics,\n",
    "89(5):477\u0015481, May 2021.<a id='ref1'></a>\n",
    " 2. Martín Monteiro and Arturo C. Martí. Resource Letter MDS-1: _Mobile devices\n",
    "and sensors for physics teaching._ American Journal of Physics, 90(5):328\u0015343, May\n",
    "2022.<a id='ref2'></a>"
   ]
  }
 ],
 "metadata": {
  "kernelspec": {
   "display_name": "Python 3 (ipykernel)",
   "language": "python",
   "name": "python3"
  },
  "language_info": {
   "codemirror_mode": {
    "name": "ipython",
    "version": 3
   },
   "file_extension": ".py",
   "mimetype": "text/x-python",
   "name": "python",
   "nbconvert_exporter": "python",
   "pygments_lexer": "ipython3",
   "version": "3.9.13"
  }
 },
 "nbformat": 4,
 "nbformat_minor": 5
}
