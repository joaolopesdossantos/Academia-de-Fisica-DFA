{
 "cells": [
  {
   "cell_type": "markdown",
   "id": "1b202c17",
   "metadata": {},
   "source": [
    " <img src=\"Images/fc.pos.jpg\" class=\"bg-primary\" align = 'left' width=200/>"
   ]
  },
  {
   "cell_type": "markdown",
   "id": "08b89c17",
   "metadata": {},
   "source": [
    "# Academia de Física 2025\n",
    "## A biblioteca `pathlib`\n",
    "\n",
    "A localização de um ficheiro na árvore de diretorias em Windows é diferente de todos os outros sistemas operativos. O windows usa o caracter `\\` para construir o caminho para um ficheiro enquanto os outros sistemas operativos e o Python usam `/`.\n",
    "A biblioteca `pathlib` foi construída para permitir criar caminhos para ficheiros de modo independente do sistema operativo."
   ]
  },
  {
   "cell_type": "code",
   "execution_count": 1,
   "id": "1b27ba68",
   "metadata": {},
   "outputs": [],
   "source": [
    "import numpy as np\n",
    "from pathlib import Path, PureWindowsPath"
   ]
  },
  {
   "cell_type": "code",
   "execution_count": 2,
   "id": "43b3e1c5",
   "metadata": {},
   "outputs": [
    {
     "name": "stdout",
     "output_type": "stream",
     "text": [
      "/home/jlsantos/trabalhos/cursos/Academia-de-Fisica-DFA/Academia-de-Fisica-DFA\n"
     ]
    }
   ],
   "source": [
    "# Diretoria corrente\n",
    "mydir=Path.cwd()\n",
    "print(mydir)"
   ]
  },
  {
   "cell_type": "code",
   "execution_count": 3,
   "id": "3efbb036",
   "metadata": {},
   "outputs": [
    {
     "name": "stdout",
     "output_type": "stream",
     "text": [
      "\\home\\jlsantos\\trabalhos\\cursos\\Academia-de-Fisica-DFA\\Academia-de-Fisica-DFA\n"
     ]
    }
   ],
   "source": [
    "#conversao para sintaxe windows\n",
    "windir=PureWindowsPath(mydir)\n",
    "print(windir)"
   ]
  },
  {
   "cell_type": "markdown",
   "id": "adb30436",
   "metadata": {},
   "source": [
    "Esta biblioteca facilita a definição de caminhos para aceder a ficheiros. Definidos deste modo são válidos em qualquer sistema operativo. "
   ]
  },
  {
   "cell_type": "code",
   "execution_count": 4,
   "id": "d096d129",
   "metadata": {},
   "outputs": [
    {
     "name": "stdout",
     "output_type": "stream",
     "text": [
      "/home/jlsantos/trabalhos/cursos/Academia-de-Fisica-DFA/Academia-de-Fisica-DFA/Dados\n"
     ]
    }
   ],
   "source": [
    "# uma diretoria Dados, sub-diretoria da diretoria corrente\n",
    "dadosPath=Path.cwd()/\"Dados\"\n",
    "print(dadosPath)"
   ]
  },
  {
   "cell_type": "code",
   "execution_count": 5,
   "id": "6f63bd6d",
   "metadata": {},
   "outputs": [
    {
     "data": {
      "text/plain": [
       "array([[ 0.05565077,  0.05746084, -0.12449849,  9.90241814,  9.90336744],\n",
       "       [ 0.06120554,  0.03830723, -0.06703765,  9.92157173,  9.92187216],\n",
       "       [ 0.06621046,  0.03830723, -0.1436521 ,  9.97903252,  9.98013995],\n",
       "       [ 0.07121531,  0.02873042, -0.20111294,  9.89284134,  9.89492706],\n",
       "       [ 0.07622023,  0.02873042, -0.17238252,  9.94072533,  9.94226137]])"
      ]
     },
     "execution_count": 5,
     "metadata": {},
     "output_type": "execute_result"
    }
   ],
   "source": [
    "# aceder a um ficheiro na diretoria dados\n",
    "acel50=np.loadtxt(dadosPath/'aceleracao50.csv',skiprows=1,delimiter=',')\n",
    "acel50[:5]"
   ]
  },
  {
   "cell_type": "code",
   "execution_count": 6,
   "id": "5ee275b1",
   "metadata": {},
   "outputs": [
    {
     "name": "stdout",
     "output_type": "stream",
     "text": [
      "/home/jlsantos/Downloads/Academia-de-Fisica-DFA-main/Dados\n"
     ]
    }
   ],
   "source": [
    "# para aceder a um ficheiro noutro local do sistema de ficheiros\n",
    "altpath=Path('/home/jlsantos/Downloads/Academia-de-Fisica-DFA-main/Dados')\n",
    "print(altpath)"
   ]
  },
  {
   "cell_type": "code",
   "execution_count": 7,
   "id": "a28442fa",
   "metadata": {},
   "outputs": [
    {
     "name": "stdout",
     "output_type": "stream",
     "text": [
      "[[ 0.000e+00  1.575e+02 -3.254e+01  7.663e+01]\n",
      " [ 3.300e-02  1.594e+02 -5.126e+01  5.094e+01]\n",
      " [ 6.700e-02  1.548e+02 -2.860e+01  7.479e+01]\n",
      " [ 1.000e-01  1.517e+02 -1.627e+01  9.161e+01]\n",
      " [ 1.330e-01  1.560e+02  6.917e+00  1.038e+02]\n",
      " [ 1.670e-01  1.639e+02  2.046e+01  1.187e+02]\n",
      " [ 2.000e-01  1.654e+02  2.536e+01  1.278e+02]\n",
      " [ 2.340e-01  1.691e+02  4.545e+01  1.315e+02]\n",
      " [ 2.670e-01  1.737e+02  6.279e+01  1.363e+02]\n",
      " [ 3.000e-01  1.793e+02  7.118e+01  1.428e+02]]\n"
     ]
    }
   ],
   "source": [
    "dados3=np.loadtxt(altpath/'dados3.txt',skiprows=2,delimiter='\\t')\n",
    "print(dados3)"
   ]
  },
  {
   "cell_type": "markdown",
   "id": "c99cc82f",
   "metadata": {},
   "source": [
    "No entanto este processo não funciona para indicar caminhos para imagens em `markdown`. Ness caso só podemos aceder a imagens em subdiretorias da diretoria corrente. "
   ]
  },
  {
   "cell_type": "code",
   "execution_count": 8,
   "id": "bb1bab02",
   "metadata": {},
   "outputs": [
    {
     "name": "stdout",
     "output_type": "stream",
     "text": [
      "/home/jlsantos/trabalhos/cursos/Academia-de-Fisica-DFA/Academia-de-Fisica-DFA/Images\n"
     ]
    }
   ],
   "source": [
    "imagepath=Path(Path.cwd()/'Images')\n",
    "print(imagepath)"
   ]
  },
  {
   "cell_type": "markdown",
   "id": "2174a523",
   "metadata": {},
   "source": [
    "![teste com caminho completo; não funciona!](imagepath/porto600.jpg)"
   ]
  },
  {
   "cell_type": "markdown",
   "id": "9d7289be",
   "metadata": {},
   "source": [
    "Mas com a indicação de caminho relativo à diretoria corrente, funciona. \n",
    "![teste com caminho relativo](Images/porto600.jpg)"
   ]
  }
 ],
 "metadata": {
  "kernelspec": {
   "display_name": "Python 3 (ipykernel)",
   "language": "python",
   "name": "python3"
  },
  "language_info": {
   "codemirror_mode": {
    "name": "ipython",
    "version": 3
   },
   "file_extension": ".py",
   "mimetype": "text/x-python",
   "name": "python",
   "nbconvert_exporter": "python",
   "pygments_lexer": "ipython3",
   "version": "3.9.13"
  }
 },
 "nbformat": 4,
 "nbformat_minor": 5
}
