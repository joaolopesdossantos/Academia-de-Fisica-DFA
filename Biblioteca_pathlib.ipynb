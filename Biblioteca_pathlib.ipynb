{
 "cells": [
  {
   "cell_type": "markdown",
   "id": "214db3cf",
   "metadata": {},
   "source": [
    " <img src=\"Images/fc.pos.jpg\" class=\"bg-primary\" align = 'left' width=200/>"
   ]
  },
  {
   "cell_type": "markdown",
   "id": "0ed71291",
   "metadata": {},
   "source": [
    "# Academia de Física 2025\n",
    "## A biblioteca `pathlib`\n",
    "\n",
    "A localização de um ficheiro na árvore de diretorias em Windows é diferente de todos os outros sistemas operativos. O windows usa o caracter `\\` para construir o caminho para um ficheiro enquanto os outros sistemas operativos e o Python usam `/`.\n",
    "A biblioteca `pathlib` foi construída para permitir criar caminhos para ficheiros de modo independente do sistema operativo."
   ]
  },
  {
   "cell_type": "code",
   "execution_count": null,
   "id": "c285ab2f",
   "metadata": {},
   "outputs": [],
   "source": [
    "import numpy as np\n",
    "from pathlib import Path, PureWindowsPath"
   ]
  },
  {
   "cell_type": "code",
   "execution_count": null,
   "id": "54a5557e",
   "metadata": {},
   "outputs": [],
   "source": [
    "# Diretoria corrente\n",
    "mydir=Path.cwd()\n",
    "print(mydir)"
   ]
  },
  {
   "cell_type": "code",
   "execution_count": null,
   "id": "13d6f058",
   "metadata": {},
   "outputs": [],
   "source": [
    "#conversao para sintaxe windows\n",
    "windir=PureWindowsPath(mydir)\n",
    "print(windir)"
   ]
  },
  {
   "cell_type": "markdown",
   "id": "9ee95d6b",
   "metadata": {},
   "source": [
    "Esta biblioteca facilita a definição de caminhos para aceder a ficheiros. Definidos deste modo são válidos em qualquer sistema operativo. "
   ]
  },
  {
   "cell_type": "code",
   "execution_count": null,
   "id": "50d9b938",
   "metadata": {},
   "outputs": [],
   "source": [
    "# uma diretoria Dados, sub-diretoria da diretoria corrente\n",
    "dadosPath=Path.cwd()/\"Dados\"\n",
    "print(dadosPath)"
   ]
  },
  {
   "cell_type": "code",
   "execution_count": null,
   "id": "b4a2352f",
   "metadata": {},
   "outputs": [],
   "source": [
    "# aceder a um ficheiro na diretoria dados\n",
    "acel50=np.loadtxt(dadosPath/'aceleracao50.csv',skiprows=1,delimiter=',')\n",
    "acel50[:5]"
   ]
  },
  {
   "cell_type": "code",
   "execution_count": null,
   "id": "36331920",
   "metadata": {},
   "outputs": [],
   "source": [
    "# para aceder a um ficheiro noutro local do sistema de ficheiros\n",
    "altpath=Path('/home/jlsantos/Downloads/Academia-de-Fisica-DFA-main/Dados')\n",
    "print(altpath)"
   ]
  },
  {
   "cell_type": "code",
   "execution_count": null,
   "id": "03526490",
   "metadata": {},
   "outputs": [],
   "source": [
    "dados3=np.loadtxt(altpath/'dados3.txt',skiprows=2,delimiter='\\t')\n",
    "print(dados3)"
   ]
  },
  {
   "cell_type": "markdown",
   "id": "f2674e99",
   "metadata": {},
   "source": [
    "No entanto este processo não funciona para indicar caminhos para imagens em `markdown`. Ness caso só podemos aceder a imagens em subdiretorias da diretoria corrente. "
   ]
  },
  {
   "cell_type": "code",
   "execution_count": null,
   "id": "f20cdb5d",
   "metadata": {},
   "outputs": [],
   "source": [
    "imagepath=Path(Path.cwd()/'Images')\n",
    "print(imagepath)"
   ]
  },
  {
   "cell_type": "markdown",
   "id": "28f69621",
   "metadata": {},
   "source": [
    "![teste com caminho completo; não funciona!](imagepath/porto600.jpg)"
   ]
  },
  {
   "cell_type": "markdown",
   "id": "16a0a049",
   "metadata": {},
   "source": [
    "Mas com a indicação de caminho relativo à diretoria corrente, funciona. \n",
    "![teste com caminho relativo](Images/porto600.jpg)"
   ]
  }
 ],
 "metadata": {
  "kernelspec": {
   "display_name": "Python 3 (ipykernel)",
   "language": "python",
   "name": "python3"
  },
  "language_info": {
   "codemirror_mode": {
    "name": "ipython",
    "version": 3
   },
   "file_extension": ".py",
   "mimetype": "text/x-python",
   "name": "python",
   "nbconvert_exporter": "python",
   "pygments_lexer": "ipython3",
   "version": "3.9.13"
  }
 },
 "nbformat": 4,
 "nbformat_minor": 5
}
