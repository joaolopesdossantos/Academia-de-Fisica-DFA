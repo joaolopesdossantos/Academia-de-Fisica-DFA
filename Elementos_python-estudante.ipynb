{
 "cells": [
  {
   "cell_type": "markdown",
   "id": "9ddc73b8",
   "metadata": {},
   "source": [
    " <img src=\"Images/fc.pos.jpg\" class=\"bg-primary\" align = 'left' width=200/>"
   ]
  },
  {
   "cell_type": "markdown",
   "id": "05575ae1",
   "metadata": {},
   "source": [
    "# Academia de Física 2025\n",
    "## Elementos de Python"
   ]
  },
  {
   "cell_type": "markdown",
   "id": "59509463",
   "metadata": {},
   "source": [
    "<a id='section1'></a>\n",
    "Neste notebook apresentamos, com brevidade possivelmente excessiva, alguns elementos de _Python_. Não ficarás competente em _Pyhton_ com estas notas, mas pode ser que te ajudem a compreender os exemplos que vamos usar nesta escola. No site [W3Schools](https://www.w3schools.com/python/default.asp) encontras informação mais completa. É um bom treino tentar adivinhar o resultado antes de executares as células de código.\n",
    "\n"
   ]
  },
  {
   "cell_type": "markdown",
   "id": "4d3abbfd",
   "metadata": {},
   "source": [
    "### Atribuições\n",
    "Em _Python_ o sinal `=` não indica uma equação, mas sim uma atribuição (_assignment_). A célula"
   ]
  },
  {
   "cell_type": "code",
   "execution_count": null,
   "id": "79a2ef36",
   "metadata": {},
   "outputs": [],
   "source": [
    "henrique=16"
   ]
  },
  {
   "cell_type": "code",
   "execution_count": null,
   "id": "bdfaf31d",
   "metadata": {},
   "outputs": [],
   "source": [
    "henrique"
   ]
  },
  {
   "cell_type": "markdown",
   "id": "3baef8b1",
   "metadata": {},
   "source": [
    "cria uma variável de nome $henrique$ à qual é atribuído o valor $2$; isto é,  o número $2$ é registado  numa posição de memória, a que podemos aceder com o símbolo $henrique$. Em geral usamos nomes mais curtos"
   ]
  },
  {
   "cell_type": "code",
   "execution_count": null,
   "id": "0605ed03",
   "metadata": {},
   "outputs": [],
   "source": [
    "a=2"
   ]
  },
  {
   "cell_type": "code",
   "execution_count": null,
   "id": "76dcf3ae",
   "metadata": {},
   "outputs": [],
   "source": [
    "2*a+1"
   ]
  },
  {
   "cell_type": "code",
   "execution_count": null,
   "id": "3668f34f",
   "metadata": {},
   "outputs": [],
   "source": [
    "a=2*x+1"
   ]
  },
  {
   "cell_type": "markdown",
   "id": "6868fc6c",
   "metadata": {},
   "source": [
    "A linha anterior deu erro, porque a variável $x$ não tem um valor atribuído. Em Python não podemos atribuir a uma variável uma expressão algébrica. "
   ]
  },
  {
   "cell_type": "code",
   "execution_count": null,
   "id": "68b51403",
   "metadata": {},
   "outputs": [],
   "source": [
    "x=3\n",
    "b=2*x+1\n",
    "b"
   ]
  },
  {
   "cell_type": "markdown",
   "id": "fe8451f0",
   "metadata": {},
   "source": [
    "Para mais informação sobre o que são nomes legais para variáveis consulta  [W3Schools](https://www.w3schools.com/python/default.asp).\n",
    "### Listas\n",
    "As listas de python são sequências ordenadas de objetos (não apenas números), que também podemos atribuir a uma variável; os seus elementos podem ser acedidos pelo índices, que em _Python_ começam em 0; os índices são enquadrados por parêntesis retos $\\left[\\dots \\right]$ Os elementos de uma lista podem ser listas. "
   ]
  },
  {
   "cell_type": "code",
   "execution_count": null,
   "id": "f55d5516",
   "metadata": {},
   "outputs": [],
   "source": [
    "b=[1,'ola',3,4]\n",
    "(b[0],b[1])\n"
   ]
  },
  {
   "cell_type": "code",
   "execution_count": null,
   "id": "bd4f79ae",
   "metadata": {},
   "outputs": [],
   "source": [
    "b[4]"
   ]
  },
  {
   "cell_type": "markdown",
   "id": "4aa17c0c",
   "metadata": {},
   "source": [
    "Podemos aceder a mais do que um elemento da lista com a notação ilustrada nas células seguintes: "
   ]
  },
  {
   "cell_type": "code",
   "execution_count": null,
   "id": "45eb7110",
   "metadata": {},
   "outputs": [],
   "source": [
    "(b[2:],b[:2])"
   ]
  },
  {
   "cell_type": "markdown",
   "id": "84b9123e",
   "metadata": {},
   "source": [
    "A expressão anterior $(b[2:],b[:2])$, uma sequência de objetos limitados por parêntesis `(...)`, $(x,y,\\dots)$,  é o exemplo de um `tuplo`. Podemos aceder a elementos de um tuplo mas não os podemos editar. "
   ]
  },
  {
   "cell_type": "code",
   "execution_count": null,
   "id": "40f1fd71",
   "metadata": {},
   "outputs": [],
   "source": [
    "c=[2,b]\n",
    "c\n"
   ]
  },
  {
   "cell_type": "code",
   "execution_count": null,
   "id": "c1a5811a",
   "metadata": {},
   "outputs": [],
   "source": [
    "print(c[1])\n",
    "print(c[1][0])"
   ]
  },
  {
   "cell_type": "code",
   "execution_count": null,
   "id": "a57a2741",
   "metadata": {},
   "outputs": [],
   "source": [
    "c[0]=3\n",
    "c"
   ]
  },
  {
   "cell_type": "code",
   "execution_count": null,
   "id": "b75c3e2b",
   "metadata": {},
   "outputs": [],
   "source": [
    "t=(1,[2,3])  #tuplo\n",
    "t[1]"
   ]
  },
  {
   "cell_type": "code",
   "execution_count": null,
   "id": "bf48f618",
   "metadata": {},
   "outputs": [],
   "source": [
    "t[1]=4"
   ]
  },
  {
   "cell_type": "markdown",
   "id": "1cd5bee6",
   "metadata": {},
   "source": [
    "### Arrays Numpy\n",
    "O  `Numpy` (**num**erical **py**thon) é uma biblioteca orientada para o cálculo numérico. O objeto fundamental é o **array**, sobre os quais se pode operar de um modo muito conveniente. Um array tem como argumento uma lista de pyhton constituída apenas por números (inteiros, vírgula flutuante, ou complexos). "
   ]
  },
  {
   "cell_type": "code",
   "execution_count": null,
   "id": "ac358e32",
   "metadata": {},
   "outputs": [],
   "source": [
    "import numpy as np    \n",
    "m = np.array([1,2,3])\n",
    "n=np.array([4,5,6])\n",
    "#(2*m,m+n)b\n",
    "m"
   ]
  },
  {
   "cell_type": "code",
   "execution_count": null,
   "id": "fcd5faa4",
   "metadata": {},
   "outputs": [],
   "source": [
    "[1,2,3]+[4,5,6]"
   ]
  },
  {
   "cell_type": "code",
   "execution_count": null,
   "id": "7165d7fc",
   "metadata": {},
   "outputs": [],
   "source": [
    "m+n\n",
    "#np.array([1,2,3])+np.array([4,5,6])"
   ]
  },
  {
   "cell_type": "markdown",
   "id": "4112c364",
   "metadata": {},
   "source": [
    "A gramática de acesso a elementos de um array é baseada na de listas mas com algumas diferenças:"
   ]
  },
  {
   "cell_type": "code",
   "execution_count": null,
   "id": "d1996cb5",
   "metadata": {},
   "outputs": [],
   "source": [
    "(m[1],m[:2])"
   ]
  },
  {
   "cell_type": "markdown",
   "id": "c32cdfd0",
   "metadata": {},
   "source": [
    "Quando criamos um `array` com uma lista em que cada elemento é por sua vez uma lista esta devem ser do mesmo tamanho; obtemos em geral uma tabela retangular de números (uma matriz).É muito útil saber como obter uma linha ou uma coluna de um `array`.   "
   ]
  },
  {
   "cell_type": "code",
   "execution_count": null,
   "id": "27db319d",
   "metadata": {},
   "outputs": [],
   "source": [
    "matriz=np.array([[1,2,3],[4,5,6]])\n",
    "print(matriz)"
   ]
  },
  {
   "cell_type": "code",
   "execution_count": null,
   "id": "d3c19b7d",
   "metadata": {},
   "outputs": [],
   "source": [
    "(matriz[0],matriz[1])"
   ]
  },
  {
   "cell_type": "code",
   "execution_count": null,
   "id": "26aebeb7",
   "metadata": {},
   "outputs": [],
   "source": [
    "(matriz[0,2],matriz[1,1])"
   ]
  },
  {
   "cell_type": "code",
   "execution_count": null,
   "id": "e575db2e",
   "metadata": {},
   "outputs": [],
   "source": [
    "(matriz[:,0],matriz[:,1])  # coluna 0 e coluna 1"
   ]
  },
  {
   "cell_type": "markdown",
   "id": "0172d63e",
   "metadata": {},
   "source": [
    "Podemos atribuir a uma variável uma lista ou um array, como vimos acima. Mas não podemos atribuir um valor a um elemento de lista ou array que não tenhamos definido antes;"
   ]
  },
  {
   "cell_type": "code",
   "execution_count": null,
   "id": "4bd61145",
   "metadata": {},
   "outputs": [],
   "source": [
    "zz[0]=1"
   ]
  },
  {
   "cell_type": "code",
   "execution_count": null,
   "id": "c23a9010",
   "metadata": {},
   "outputs": [],
   "source": [
    "zz=np.array([0,0,0])\n",
    "zz[1]=1\n",
    "zz"
   ]
  },
  {
   "cell_type": "markdown",
   "id": "75045164",
   "metadata": {},
   "source": [
    "O `numpy`proporciona várias  funções muito úteis para gerar `arrays`"
   ]
  },
  {
   "cell_type": "code",
   "execution_count": null,
   "id": "54f39a4d",
   "metadata": {},
   "outputs": [],
   "source": [
    "z1=np.zeros(4,float)\n",
    "z2=np.ones(4,float)\n",
    "print(z1)          \n",
    "print(z2)"
   ]
  },
  {
   "cell_type": "markdown",
   "id": "dbb4d6ee",
   "metadata": {},
   "source": [
    "<div class=\"alert alert-block alert-warning\">\n",
    "    <b>Exercício 1</b>\n",
    "    <p> Executa as definições da célula seguinte. Imprime a matriz z e depois extrai a primeira coluna e a primeira. linha </p>   \n",
    "</div>"
   ]
  },
  {
   "cell_type": "code",
   "execution_count": null,
   "id": "83c18472",
   "metadata": {},
   "outputs": [],
   "source": [
    "x=np.linspace(1,4,4)\n",
    "y=2*np.ones(4,int)\n",
    "z=np.array([x,y])"
   ]
  },
  {
   "cell_type": "code",
   "execution_count": null,
   "id": "a932ec15",
   "metadata": {},
   "outputs": [],
   "source": [
    "# faz aqui o teu exercício\n"
   ]
  },
  {
   "cell_type": "markdown",
   "id": "2dd2bb05",
   "metadata": {},
   "source": [
    "### Ciclos\n",
    "Qualquer linguagem de programação permite executar repetidamente um bloco de instruções, eventualmente alterando uma ou mais variáveis em cada repetição. Em _Python_ as instruções a repetir são indicadas pela indentação; a linha que determina o modo de execução do bloco termina com `:`   "
   ]
  },
  {
   "cell_type": "code",
   "execution_count": null,
   "id": "7a5b4f0e",
   "metadata": {},
   "outputs": [],
   "source": [
    "for i in [2,3,4]:    # repetir as instruções indentadas 3 vezes,   para i com valores, 2,3 4\n",
    "    print(i)         # dentro do ciclo\n",
    "    print(i**2)      # dentro do ciclo\n",
    "print(i)             # executado depois de sair do bloco"
   ]
  },
  {
   "cell_type": "markdown",
   "id": "dc7e4670",
   "metadata": {},
   "source": [
    "### Definição de funções\n",
    "É frequente querermos utilizar o mesmo código em diferentes partes do nosso programa, por vezes com um ou mais argumentos que podem variar. O _Python_ permite agrupar código numa _função_ e executar esse bloco de código chamando essa função. Vê os exemplos abaixo. A palavra `def` (**def**inition) é seguida do nome escolhido para a função com a indicação de um ou mais argumentos. O código da função é indentado e deve conter uma instrução com a palavra `return`  seguida  do valor devolvido pela chamada à função.  \n"
   ]
  },
  {
   "cell_type": "code",
   "execution_count": null,
   "id": "c46b55ce",
   "metadata": {},
   "outputs": [],
   "source": [
    "def my_f(x):\n",
    "    s=1+x+x**2\n",
    "    return s\n",
    "\n",
    "my_f(5)"
   ]
  },
  {
   "cell_type": "code",
   "execution_count": null,
   "id": "8a89783b",
   "metadata": {},
   "outputs": [],
   "source": [
    "def my_f2(x,y):\n",
    "    return 1+x*y\n",
    "my_f2(2,3)"
   ]
  },
  {
   "cell_type": "code",
   "execution_count": null,
   "id": "6ebc0515",
   "metadata": {},
   "outputs": [],
   "source": [
    "def my_name_is(x):\n",
    "    print ('My name is',x)\n",
    "    return                  # esta função não devolve um valor."
   ]
  },
  {
   "cell_type": "code",
   "execution_count": null,
   "id": "7d2ca5ef",
   "metadata": {},
   "outputs": [],
   "source": [
    "c=my_name_is('Ana')"
   ]
  },
  {
   "cell_type": "code",
   "execution_count": null,
   "id": "fddc7bdd",
   "metadata": {},
   "outputs": [],
   "source": [
    "c"
   ]
  },
  {
   "cell_type": "markdown",
   "id": "04db16c7",
   "metadata": {},
   "source": [
    "<div class=\"alert alert-block alert-warning\">\n",
    "    <b>Exercício 2</b>\n",
    "    <p> Define uma função de três variáveis $x$, $y$, $z$ que devolva o valor do módulo do vetor de componentes,$x$, $y$, $z$</p>   \n",
    "</div>"
   ]
  },
  {
   "cell_type": "code",
   "execution_count": null,
   "id": "83b97ca8",
   "metadata": {},
   "outputs": [],
   "source": [
    "# faz aqui o teu exercício"
   ]
  }
 ],
 "metadata": {
  "kernelspec": {
   "display_name": "Python 3 (ipykernel)",
   "language": "python",
   "name": "python3"
  },
  "language_info": {
   "codemirror_mode": {
    "name": "ipython",
    "version": 3
   },
   "file_extension": ".py",
   "mimetype": "text/x-python",
   "name": "python",
   "nbconvert_exporter": "python",
   "pygments_lexer": "ipython3",
   "version": "3.9.13"
  }
 },
 "nbformat": 4,
 "nbformat_minor": 5
}
