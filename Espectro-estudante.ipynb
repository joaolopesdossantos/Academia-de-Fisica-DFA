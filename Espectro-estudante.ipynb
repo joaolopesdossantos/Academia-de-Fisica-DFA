{
 "cells": [
  {
   "cell_type": "markdown",
   "id": "214db3cf",
   "metadata": {},
   "source": [
    " <img src=\"Images/fc.pos.jpg\" class=\"bg-primary\" align = 'left' width=200/>"
   ]
  },
  {
   "cell_type": "markdown",
   "id": "0ed71291",
   "metadata": {},
   "source": [
    "# Academia de Física 2025\n",
    "\n",
    "\n",
    "Neste notebook vamos pegar na experiência de Raios X  e fazer uma ajuste não linear a um dos picos do difratograma obtido a uma temperatura de $T=300$ K. Tentaremos o ajuste a dois perfis distintos, *Gaussiano* e *Lorentziano* "
   ]
  },
  {
   "cell_type": "code",
   "execution_count": null,
   "id": "c285ab2f",
   "metadata": {},
   "outputs": [],
   "source": [
    "import numpy as np\n",
    "import matplotlib.pyplot as plt\n",
    "from scipy.optimize import curve_fit\n",
    "from pathlib import Path"
   ]
  },
  {
   "cell_type": "code",
   "execution_count": null,
   "id": "54a5557e",
   "metadata": {},
   "outputs": [],
   "source": [
    "# Diretoria corrente\n",
    "mydir=Path.cwd()\n",
    "print(mydir)"
   ]
  },
  {
   "cell_type": "markdown",
   "id": "9ee95d6b",
   "metadata": {},
   "source": [
    "Esta biblioteca facilita a definição de caminhos para aceder a ficheiros. Definidos deste modo são válidos em qualquer sistema operativo. "
   ]
  },
  {
   "cell_type": "code",
   "execution_count": null,
   "id": "50d9b938",
   "metadata": {},
   "outputs": [],
   "source": [
    "# uma diretoria Dados, sub-diretoria da diretoria corrente\n",
    "dadosPath=Path.cwd()/\"Dados\"\n",
    "print(dadosPath)"
   ]
  },
  {
   "cell_type": "code",
   "execution_count": null,
   "id": "b4a2352f",
   "metadata": {},
   "outputs": [],
   "source": [
    "# aceder a um ficheiro na diretoria dados\n",
    "acel50=np.loadtxt(dadosPath/'aceleracao50.csv',skiprows=1,delimiter=',')\n",
    "acel50[:5]"
   ]
  },
  {
   "cell_type": "code",
   "execution_count": null,
   "id": "36331920",
   "metadata": {},
   "outputs": [],
   "source": [
    "# para aceder a um ficheiro noutro local do sistema de ficheiros\n",
    "altpath=Path(Path.cwd()/'2025Experiencias/XRD/BulkXRD')\n",
    "print(altpath)"
   ]
  },
  {
   "cell_type": "code",
   "execution_count": null,
   "id": "03526490",
   "metadata": {},
   "outputs": [],
   "source": [
    "#Difratograma\n",
    "dadosXR=np.loadtxt(altpath/'Bulk300K.chi',skiprows=1,delimiter=' ')\n",
    "plt.plot(dadosXR[:,0],dadosXR[:,1], 'b-')\n",
    "plt.grid(True)\n"
   ]
  },
  {
   "cell_type": "code",
   "execution_count": null,
   "id": "b71fc1ec",
   "metadata": {},
   "outputs": [],
   "source": [
    "#Primeiro pico\n",
    "dadosXR=np.loadtxt(altpath/'Bulk300K.chi',skiprows=1,delimiter=' ')\n",
    "plt.plot(dadosXR[:,0],dadosXR[:,1], 'bo',ms=2)\n",
    "plt.grid(True)\n",
    "plt.xlim([3.9,4.2])"
   ]
  },
  {
   "cell_type": "markdown",
   "id": "8406d404",
   "metadata": {},
   "source": [
    "Queremos selecionar o primeiro pico. Mas à priori não sabemos que elementos dos dados devemos extrair. A função `np.where()` resolve esse problema.\n"
   ]
  },
  {
   "cell_type": "code",
   "execution_count": null,
   "id": "8477748d",
   "metadata": {},
   "outputs": [],
   "source": [
    "ang=dadosXR[:,0]\n",
    "ints=dadosXR[:,1]\n",
    "np.where(ang>3.9)"
   ]
  },
  {
   "cell_type": "code",
   "execution_count": null,
   "id": "b457c569",
   "metadata": {},
   "outputs": [],
   "source": [
    "np.where(ang>3.9)[0][0]"
   ]
  },
  {
   "cell_type": "code",
   "execution_count": null,
   "id": "0ae022cd",
   "metadata": {},
   "outputs": [],
   "source": [
    "low_ind,up_ind=np.where(dadosXR[:,0]>3.9)[0][0],np.where(dadosXR[:,0]>4.20)[0][0]\n",
    "#low_ind,up_ind=np.where(dadosXR[:,0]>4.0)[0][0],np.where(dadosXR[:,0]>4.10)[0][0]\n",
    "data = dadosXR[low_ind:up_ind]\n",
    "ang=data[:,0]\n",
    "ints=data[:,1]\n",
    "plt.plot(ang,ints, 'bo',ms =3)\n",
    "plt.grid(True)"
   ]
  },
  {
   "cell_type": "markdown",
   "id": "f2674e99",
   "metadata": {},
   "source": [
    "Agora vamos definir uma função para ajustar a estes dados. A função Gaussiana tem a forma\n",
    "\n",
    "$$\n",
    "g(x)=A \\exp\\left( \\frac{-(x-\\mu)^2}{2\\sigma^2}\\right)\n",
    "$$\n",
    "Não é difícil ver que o máximo occorre em $x=\\mu$, o valor da função nesse ponto é $A$ e quando $x-\\mu=\\pm \\sigma$ o valor da função é $A/\\sqrt{e}=0.606A$"
   ]
  },
  {
   "cell_type": "markdown",
   "id": "478b1727",
   "metadata": {},
   "source": [
    "<div class=\"alert alert-block alert-warning\">\n",
    "    <b>Exercício 1</b>\n",
    "    <p> Produz  gráficos da função de Gauss, variando os parâmetros $\\mu, \\sigma, A$ para teres uma ideia da maneira como determinam cada aspeto do gráfico.\n",
    "</div>"
   ]
  },
  {
   "cell_type": "code",
   "execution_count": null,
   "id": "f20cdb5d",
   "metadata": {},
   "outputs": [],
   "source": [
    "def gauss(x,mean,var,ampl):\n",
    "    return ampl*np.exp(-(x-mean)**2/2/var)\n"
   ]
  },
  {
   "cell_type": "code",
   "execution_count": null,
   "id": "987e0b66",
   "metadata": {},
   "outputs": [],
   "source": [
    "guess=np.array([4.05,.1e-4,6000])\n",
    "parms,cov=curve_fit(gauss,ang,ints,p0=guess)\n",
    "parms"
   ]
  },
  {
   "cell_type": "code",
   "execution_count": null,
   "id": "595e398c",
   "metadata": {},
   "outputs": [],
   "source": [
    "plt.plot(ang,ints, 'bo', ms =3, label=\"dados exp.\")\n",
    "plt.plot(ang,gauss(ang,parms[0],parms[1],parms[2]), 'r-',label='perfil gaussiano')\n",
    "plt.legend()\n",
    "plt.grid(True)"
   ]
  },
  {
   "cell_type": "markdown",
   "id": "b6f486b8",
   "metadata": {},
   "source": [
    "Um perfil muito usado nos ajustes a espectros é a função Lorentziana\n",
    "$$\n",
    "l(x)=\\frac{A}{(x-\\mu)^2+\\Gamma^2}\n",
    "$$\n",
    "\n",
    "O máximo continua a ser em $x=\\mu$ e a função vale $A/\\Gamma^2$ . Para $x=\\mu=\\pm \\Gamma$,  o valor da função é metade do do pico.  "
   ]
  },
  {
   "cell_type": "code",
   "execution_count": null,
   "id": "957e6d12",
   "metadata": {},
   "outputs": [],
   "source": [
    "def lorentz(x,mean,gamma2,ampl):\n",
    "    return ampl/((x-mean)**2+gamma2)"
   ]
  },
  {
   "cell_type": "code",
   "execution_count": null,
   "id": "32d17159",
   "metadata": {},
   "outputs": [],
   "source": [
    "mu=5\n",
    "Gamma=1\n",
    "A=1\n",
    "x=np.linspace(-5,15,100)\n",
    "y=lorentz(x,mu,Gamma,A)\n",
    "plt.plot(x,y,'g-')\n",
    "plt.grid(True)"
   ]
  },
  {
   "cell_type": "code",
   "execution_count": null,
   "id": "7553b864",
   "metadata": {},
   "outputs": [],
   "source": [
    "guess=np.array([4.05,.01,1])\n",
    "parms2,cov=curve_fit(lorentz,ang,ints,p0=guess)\n",
    "parms2"
   ]
  },
  {
   "cell_type": "code",
   "execution_count": null,
   "id": "08289beb",
   "metadata": {},
   "outputs": [],
   "source": [
    "plt.plot(ang,ints, 'bo', ms =3)\n",
    "plt.plot(ang,gauss(ang,parms[0],parms[1],parms[2]), 'r-')\n",
    "plt.plot(ang, lorentz(ang,parms2[0],parms2[1],parms2[2]), 'g-')\n",
    "plt.grid(True)"
   ]
  },
  {
   "cell_type": "markdown",
   "id": "f51d62f4",
   "metadata": {},
   "source": [
    "<div class=\"alert alert-block alert-warning\">\n",
    "    <b>Exercício 2</b>\n",
    "    <p> Usa o que aprendeste aqui para analisar outro pico do difratograma\n",
    "</div>"
   ]
  }
 ],
 "metadata": {
  "kernelspec": {
   "display_name": "Python 3 (ipykernel)",
   "language": "python",
   "name": "python3"
  },
  "language_info": {
   "codemirror_mode": {
    "name": "ipython",
    "version": 3
   },
   "file_extension": ".py",
   "mimetype": "text/x-python",
   "name": "python",
   "nbconvert_exporter": "python",
   "pygments_lexer": "ipython3",
   "version": "3.9.13"
  }
 },
 "nbformat": 4,
 "nbformat_minor": 5
}
