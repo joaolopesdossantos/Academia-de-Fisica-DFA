{
 "cells": [
  {
   "cell_type": "markdown",
   "id": "9ddc73b8",
   "metadata": {},
   "source": [
    " <img src=\"Images/fc.pos.jpg\" class=\"bg-primary\" align = 'left' width=200/>"
   ]
  },
  {
   "cell_type": "markdown",
   "id": "05575ae1",
   "metadata": {},
   "source": [
    "# Academia  de Física 2025\n",
    "## Explosão de Beirute\n",
    "A 4 de agosto de 2020, a cidade de Beirute, capital do Líbano, foi sacudida por uma catastrófica  explosão que arrasou uma parte da cidade. \n",
    "\n",
    "<img src=\"Images/beirut.webp\" width=600 align='center'/>\n",
    "\n",
    "[\\[ref. 2\\]](#ref2)\n",
    "\n",
    "Nesta atividade, baseada num  artigo publicado na revista <em>Physics Education</em> [\\[1\\]](#ref2), vamos analisar alguns videos para obter informações sobre esta trágica ocorrência. O método que vamos usar foi proposto pelo Físico inglês Geoffrey  Taylor e serviu-lhe para estimar a energia libertada nas primeiras explosões nucleares realizadas pelos EUA no deserto no Novo México em 1945 [\\[ref. 4\\]](#ref4)  "
   ]
  },
  {
   "cell_type": "code",
   "execution_count": null,
   "id": "72f8e26c",
   "metadata": {},
   "outputs": [],
   "source": [
    "%matplotlib inline                         \n",
    "import numpy as np                         # modulo numérico , essencial para trabalho cientifico; chamado\n",
    "                                           # com nome abreviado np\n",
    "import matplotlib.pylab as plt             # modulo de graficos. "
   ]
  },
  {
   "cell_type": "markdown",
   "id": "1326638f",
   "metadata": {},
   "source": [
    "### Energia libertada na explosão\n",
    "Vamos começar por  investigar a maneira como a bola de fogo que resulta da explosão aumenta de raio com o tempo. \n",
    "Para isso vamos usar um método, conhecido por  análise dimensional, que depende apenas da consideração  das unidades das grandezas física envolvidas que aparecem numa dada equação. \n",
    "\n",
    "#### Exemplo de análise dimensional \n",
    "Considera um corpo de massa $m$ que está a uma altura do solo, $h$ e que é deixado cair na presença da aceleração da gravidade $g$. Quanto tempo demora a chegar ao solo?\n",
    "Imagina que ainda não aprendeste o movimento uniformemente acelerado. Mesmo assim, parece razoável supor  que esse tempo só pode depender da massa do corpo, $m$, da aceleração da gravidade,$g$ e de $h$ (ignoramos a resistência do ar).\n",
    "Se quiseres escrever uma expressão para $t$, \n",
    "\n",
    "$$\n",
    "t=?\n",
    "$$\n",
    "\n",
    "no segundo membro só podes incluir as grandezas, $m$, $g$ e $h$. Ora a expressão que construires tem de ter as unidades de tempo, para poder ser igual a uma tempo de queda. A questão então é:\n",
    "\n",
    " <em> Consegues combinar, $m$,$g$ e $h$, para definir uma grandeza com as mesmas unidades que um tempo?</em>\n",
    "\n"
   ]
  },
  {
   "cell_type": "markdown",
   "id": "9e114bdd",
   "metadata": {},
   "source": [
    "<div class=\"alert alert-block alert-warning\">\n",
    "    <b>Exercício 1</b>\n",
    "    <p>Tenta formar  produto de potências de <em>m</em>, <em>g</em> e <em>h</em>   que tenha as unidades de um tempo.\n",
    "    Verifica que <em>m</em> não pode aparecer em tal produto. Como podes combinar <em>g</em> e <em>h</em> para formar um tempo?</p> \n",
    "</div>"
   ]
  },
  {
   "cell_type": "markdown",
   "id": "a670e502",
   "metadata": {},
   "source": [
    "No caso da explosão acontece que o raio $R$ da bola de fogo (*blast wave*), depende apenas do tempo, $t$ desde ínicio da explosão, da energia libertada, $E$ e da <em> densidade  </em> (massa volúmica) do ar, $\\rho$. Se determinares as unidades em que se exprimem estas grandezas (reduzidas às unidades fundamentais de tempo, comprimento e massa), podes aplicar o mesmo raciocíonio do exemplo anterior e determinar a dependência de $R$ em $E$, $\\rho$ e $t$.   "
   ]
  },
  {
   "cell_type": "markdown",
   "id": "344bcb81",
   "metadata": {},
   "source": [
    "<div class=\"alert alert-block alert-warning\">\n",
    "    <b>Exercício 2</b>\n",
    "    <p> Usando análise dimensional, tenta demonstrar:\n",
    "   $$R\\propto \\left(\\frac{ E t^2}{\\rho}\\right)^{1/5}$$\n",
    "</div>"
   ]
  },
  {
   "cell_type": "markdown",
   "id": "59509463",
   "metadata": {},
   "source": [
    "<a id='section1'></a>\n",
    "### Vídeo da Explosão \n",
    "Começa por ver o vídeo obtido por Agoston Nemeth da janela do seu apartamento [\\[ref.3\\]](#ref3). O video começa com a fimagem do incêndio num armazém do Porto de Beirute e capta o momento da explosão e a expansão da bola de Fogo que se lhe segue. Nota que há um edifício visível do lado esquerdo do armazém onde se deu a explosão. Recorrendo a imagens do Google Earth veremos mais tarde que esse edíficio permitirá estabelecer uma escala de distâncias na zona da explosão. \n",
    "\n",
    "Para medirmos a evolução da Bola de fogo vamos analisar este vídeo na aplicação *Tracker*.  "
   ]
  },
  {
   "cell_type": "code",
   "execution_count": null,
   "id": "5803af20",
   "metadata": {},
   "outputs": [],
   "source": [
    "from IPython.display import YouTubeVideo\n",
    "YouTubeVideo('4DH0URNodcQ', width=600, height=400)"
   ]
  },
  {
   "cell_type": "markdown",
   "id": "0dd50185",
   "metadata": {},
   "source": [
    "### Tracker\n",
    "No teu computador tens uma versão do *Tracker*; se nunca usaste esta aplicação vê primeiro  o tutorial  de introdução."
   ]
  },
  {
   "cell_type": "code",
   "execution_count": null,
   "id": "bf8a589e",
   "metadata": {},
   "outputs": [],
   "source": [
    "YouTubeVideo('La3H7JywgX0', width=600, height=400)"
   ]
  },
  {
   "cell_type": "markdown",
   "id": "baadeac4",
   "metadata": {},
   "source": [
    "#### Calibração de distâncias\n",
    "Abre o Tracker e arrasta a cópia do vídeo da explosão (que está no teu disco)  para  a janela principal do *Tracker*. Localiza  as *frames*  que te interessam:  o momento da explosão e as frames seguintes.  Usa as marcas triangulares na barra inferior para limitares o video ao início da explosão e às *frames* onde podes ver a bola de fogo. \n",
    "Antes de poderes medir o raio necessitas de estabelecer uma escala. Repara no prédio contíguo ao armazém onde se deu a explosão. A imagem seguinte do Google Earth, mostra a localização relativa do ponto onde foi filmado o vídeo e desse edifício, assim como as dimensões da fachada visível no vídeo [\\[ref 1\\]](#ref1).\n",
    "<img src='Images/Beirut_GoogleEarth.png' width=400> "
   ]
  },
  {
   "cell_type": "markdown",
   "id": "23cce686",
   "metadata": {},
   "source": [
    "<div class=\"alert alert-block alert-warning\">\n",
    "    <b>Exercício 3</b>\n",
    "    <p>A fachada de topo do edifício ao lado do armazém onde se deu a explosão é visível no vídeo. Qual é a sua largura <em>projetada</em> no plano da imagem? Para responderes tem em mente a figura seguinte.</p> \n",
    "    <img src='Images/geometria_GEarth2.png' width=150>\n",
    "</div>"
   ]
  },
  {
   "cell_type": "markdown",
   "id": "dd5440c8",
   "metadata": {},
   "source": [
    "#### Medição do Raio em função do tempo\n",
    "Se chegaste a um valor $L=24.2$ m, raciocinaste corretamente.  Usa o `calibration stick` do *Tracker* para estabelecer a tua escala de comprimentos na zona da explosão.\n",
    "\n",
    "Agora terás de medir o raio da bola de fogo em cada *frame*. Para isso o *Tracker* proporciona várias possibilidades no menu `track-> new`\n",
    "\n",
    " - `vector`\n",
    " - `measuring tools -> tape measure`\n",
    " - `measuring tools -> circle filter`\n",
    " \n",
    " Experimenta estas várias possibilidades; descobre como funcionam usando o `help` do *Tracker*; escolhe a que melhor se ajusta a medidas do raio. Nota que o vídeo tem 30 *frames/s*, pelo  que entre *frames* sucessivas passa um tempo de $\\Delta t=0.033$ s. \n",
    " Depois obteres uma tabela de tempos e raios (ou diâmetros) exporta os dados para um ficheiro de texto, para os analisares. "
   ]
  },
  {
   "cell_type": "markdown",
   "id": "8093b5a2",
   "metadata": {},
   "source": [
    "<div class=\"alert alert-block alert-warning\">\n",
    "    <b>Exercício 4</b>\n",
    "    <h3> Sugestões e perguntas</h3>\n",
    "    <ol>\n",
    "        <li>Começa por representar graficamente os dados $R$ *vs* $t$, Será a relação linear?</li>\n",
    "         <li>A previsão da análise dimensional é $R\\propto t^{2/5}$. Serão os dados consistentes com esta previsão? Para responder tem algumas possibilidades para obter uma relação linear entre variáveis:</li>\n",
    "        <ul>\n",
    "            <li>Tomar o logaritmo da expressão $$R=c\\left(\\frac{E}{\\rho}t^2\\right)^{1/5}$$\n",
    "    $$ \\log(R)=\\log(c)+\\frac{1}{5}\\log(E/\\rho)+ \\frac{2}{5}\\log(t)$$  Como podes verificar esta relação?</li>\n",
    "         <li>Representar $R$ *vs* $t^{2/5}$</li>\n",
    "            Em qualquer destes casos procura determinar o valor da energia a partir dos ajustes lineares usando a função `polyfit`. Não conheces a constante de proporcionalidade $c$, mas é habitual em análise dimensional supô-la da ordem da unidade, $c\\approx 1$. A análise de Geoffrey Taylor estima que no ar às altas temperaturas de uma explosão a constante  é, de facto, $c\\approx 1$. Toma para densidade do ar $\\rho =1.2$ kg m$^{-3}$. Um kiloton de TNT é $4.18\\times 10^{12}$ J\n",
    "        </ul>\n",
    "        <li>Podes tentar estimar a incerteza na determinação dos raios. Uma vez que há alguma subjetividade na determinação dos limites da bola de fogo, uma possibilidade é que cada elemento de grupo faça uma medição independente para investigar a variação nas medidas e nos parâmetros resultantes dos ajustes.</li>\n",
    "    </ol>\n",
    "</div>"
   ]
  },
  {
   "cell_type": "markdown",
   "id": "069f8b23",
   "metadata": {},
   "source": [
    "### Referências\n",
    "\n",
    "1. Mauricio Echiburu <em>et al</em>,  2023 Phys. Educ. 58 025009, [https://iopscience.iop.org/article/10.1088/1361-6552/acad5b](https://iopscience.iop.org/article/10.1088/1361-6552/acad5b)<a id='ref1'></a>\n",
    "\n",
    "2. Beirut explosion: Before-and-after images, BBC news, 07 de agosto de 2020 [https://www.bbc.com/news/world-middle-east-53680772](https://www.bbc.com/news/world-middle-east-53680772 )<a id='ref2'></a>\n",
    "3. Beirut: video muestra otra perspectiva de la explosión,  CNN en Espanhol [https://www.youtube.com/watchv=4DH0URNodcQ](https://www.youtube.com/watch?v=4DH0URNodcQ) <a id='ref3'></a>\n",
    "\n",
    "4. Taylor Geoffrey Ingram, 1950 The formation of a blast wave by a very intense explosion. - II. The atomic explosion of 1945. Proc. R. Soc. Lond. A201175–186 http://doi.org/10.1098/rspa.1950.0050 <a id=ref4></a>"
   ]
  }
 ],
 "metadata": {
  "kernelspec": {
   "display_name": "Python 3 (ipykernel)",
   "language": "python",
   "name": "python3"
  },
  "language_info": {
   "codemirror_mode": {
    "name": "ipython",
    "version": 3
   },
   "file_extension": ".py",
   "mimetype": "text/x-python",
   "name": "python",
   "nbconvert_exporter": "python",
   "pygments_lexer": "ipython3",
   "version": "3.9.13"
  }
 },
 "nbformat": 4,
 "nbformat_minor": 5
}
