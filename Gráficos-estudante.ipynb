{
 "cells": [
  {
   "cell_type": "markdown",
   "id": "9ddc73b8",
   "metadata": {},
   "source": [
    " <img src=\"Images/fc.pos.jpg\" class=\"bg-primary\" align = 'left' width=200/>"
   ]
  },
  {
   "cell_type": "markdown",
   "id": "05575ae1",
   "metadata": {},
   "source": [
    "# Academia de Física 2024\n",
    "## Introdução ao Jupyter Notebook: 2"
   ]
  },
  {
   "cell_type": "markdown",
   "id": "59509463",
   "metadata": {},
   "source": [
    "<a id='section1'></a>\n",
    "### Gráficos\n",
    "Neste segundo notebook começamos a lidar com Python, motivados pela necessidade de criação de gráficos, quer de funções quer de dados obtidos externamente. \n",
    "\n",
    "Estas notas não são um curso de Python; há literalmente centenas de cursos de iniciação a esta linguagem disponíveis na internet e repeti-los seria uma perda de tempo. Por isso daremos apenas indicações breves, essenciais para entender o código e usaremos hiperligações a tutoriais de Python para os que quiserem explicações mais completas. Um recurso muito útil são as [W3Schools](https://www.w3schools.com/python/default.asp).\n",
    "Eis alguns dos gráficos que vamos construir.\n"
   ]
  },
  {
   "cell_type": "markdown",
   "id": "86238577",
   "metadata": {},
   "source": [
    "#### Exemplos\n",
    "<img src=\"Images/grafico1.png\" width=\"300\" height=\"150\" align=\"left\"/> \n",
    "<img src=\"Images/grafico4.png\" width=\"300\" height=\"150\" align=\"left\"/> \n",
    "<img src=\"Images/grafico3.png\" width=\"300\" height=\"150\" align=\"left\"/> \n"
   ]
  },
  {
   "cell_type": "markdown",
   "id": "64d3fc04",
   "metadata": {},
   "source": [
    "<img src=\"Images/grafico2.png\" width=\"300\" height=\"150\" align=\"left\"/> \n",
    "<img src=\"Images/grafico5.png\" width=\"300\" height=\"150\" align=\"left\"/> \n",
    "<img src=\"Images/grafico6.png\" width=\"300\" height=\"150\" align=\"left\"/> "
   ]
  },
  {
   "cell_type": "markdown",
   "id": "ef428cad",
   "metadata": {},
   "source": [
    "### Importação de módulos\n",
    "Para criar gráficos e, em geral para trabalho científico,  temos de recorrer a _bibliotecas_ (_libraries_) que  ampliam os recursos do Python com um vasto conjunto de funções que podemos chamar para executar determinadas tarefas. \n",
    "A célula seguinte importa duas dessas bibliotecas.\n",
    "\n",
    "1. A primeira linha, começada por `%`. é um comando que configura o notebook para incluir os gráficos no notebook, em vez de abrir uma nova janela. Esta linha não é código Python. \n",
    "2. A segunda linha importa um extensão do Python, `numpy`, essencial para todo o trabalho numérico. A sintaxe escolhida significa que todas as funções do`numpy`  e do `pyplot` deverão ter o respetivo nome precedido do prefixos `np`  e `plt`; deste modo não corremos o risco de conflitos de nomes de funções desta biblioteca com funções defininas por nós.  "
   ]
  },
  {
   "cell_type": "code",
   "execution_count": null,
   "id": "dcef7547",
   "metadata": {},
   "outputs": [],
   "source": [
    "%matplotlib inline                                     \n",
    "import numpy as np                    # modulo numérico , essencial para trabalho cientifico; chamado\n",
    "import matplotlib.pyplot as plt \n",
    "#from matplotlib.pyplot import * "
   ]
  },
  {
   "cell_type": "markdown",
   "id": "8631a343",
   "metadata": {},
   "source": [
    "#### Gráfico Simples\n",
    "Na célula seguinte, as duas primeiras linhas  são exemplos de atribuições, _assignments_ . O objeto $[1,2,3,4,5]$ é uma __lista__ de Python que passa a ser endereçada pelo nome da variável do primeiro membro, $x$. A `Python list` tem a forma de um conjunto de objetos separados por vírgulas, entre parênteis retos, $[a,b,c,\\dots]$ e é uma de várias maneiras de organizar um conjunto de dados. "
   ]
  },
  {
   "cell_type": "code",
   "execution_count": null,
   "id": "c6acde51",
   "metadata": {},
   "outputs": [],
   "source": [
    "x=[1,2,3,4,5]\n",
    "y=[1,1,3,2,2]\n",
    "x"
   ]
  },
  {
   "cell_type": "markdown",
   "id": "90eb9830",
   "metadata": {},
   "source": [
    "Podes pensar numa lista como uma sequência de objetos $[a_0,a_1,\\dots,a_{N-1} ]$ com índices que, em Python, começam no zero. Podemos aceder a um elemento ou a um subconjunto de elementos. Encontras mais informação em [W2 Schools-Python Lists](https://www.w3schools.com/python/python_lists.asp).."
   ]
  },
  {
   "cell_type": "code",
   "execution_count": null,
   "id": "bdcd9f2b",
   "metadata": {},
   "outputs": [],
   "source": [
    "print(x[0],x[2])\n",
    "print(x[1:4])\n",
    "print(x[1:])"
   ]
  },
  {
   "cell_type": "markdown",
   "id": "b1000039",
   "metadata": {},
   "source": [
    "Aqui interessa-nos a lista completa. Podemos chamar a função `plot`, usado os valores de $x$ como abcissas e de $y$ como ordenadas. o argumento `'bo'` indica que queremos usar circulos como marcadores com cor azul (**b**lue)."
   ]
  },
  {
   "cell_type": "code",
   "execution_count": null,
   "id": "fc0ce8d1",
   "metadata": {},
   "outputs": [],
   "source": [
    "plot(x,y,'bo')"
   ]
  },
  {
   "cell_type": "markdown",
   "id": "8b460db2",
   "metadata": {},
   "source": [
    "`plot` é uma função da biblioteca `pyplot`; pelo que dissemos atrás deve ser chamada com `plt.plot()`: "
   ]
  },
  {
   "cell_type": "code",
   "execution_count": null,
   "id": "18a6a5bf",
   "metadata": {},
   "outputs": [],
   "source": [
    "plt.plot(x,y,'bo');"
   ]
  },
  {
   "cell_type": "markdown",
   "id": "8d6dd41a",
   "metadata": {},
   "source": [
    "<div class=\"alert alert-block alert-warning\">\n",
    "    <b>Exercício 1</b>\n",
    "    <p> Repete o gráfico anterior, substituido a <i>string</i> 'bo'  por; 'rs', 'rt', 'b-',  'r-s' e 'r-'.</p>\n",
    "    <p> Depois vê se consegues fazer o mesmo gráfico com os pontos representados por quadrados unidos por linhas de cor magenta.</p>\n",
    "    \n",
    "</div>"
   ]
  },
  {
   "cell_type": "code",
   "execution_count": null,
   "id": "65e97e04",
   "metadata": {},
   "outputs": [],
   "source": [
    "# faz aqui o teu exercício.\n"
   ]
  },
  {
   "cell_type": "markdown",
   "id": "ab9ece81",
   "metadata": {},
   "source": [
    "É de bom tom identificar as variáveis dos eixos e dar um título ao gráfico. A célula seguinte quase não requer explicações."
   ]
  },
  {
   "cell_type": "code",
   "execution_count": null,
   "id": "f515495c",
   "metadata": {},
   "outputs": [],
   "source": [
    "# Um gráfico mais arranjadinho\n",
    "plt.figure(figsize=(4,2))\n",
    "plt.xlabel(\"t\", fontsize=12)\n",
    "plt.ylabel (\"h\", fontsize=12)\n",
    "plt.title(\"Gráfico Simples\", fontsize=14)\n",
    "plt.grid(True)\n",
    "plt.plot(x,y,'k-o');"
   ]
  },
  {
   "cell_type": "markdown",
   "id": "2d861369",
   "metadata": {},
   "source": [
    "### Gráficos de funções.\n",
    "Voltamos agora ao exemplo de gráfico de funções no notebook anterior. Vejamos o resultado linha a linha.  "
   ]
  },
  {
   "cell_type": "code",
   "execution_count": null,
   "id": "dfd8e478",
   "metadata": {},
   "outputs": [],
   "source": [
    "# gráfico de  função\n",
    "x= np.linspace(0,10,40)               # lista de abcissas de 0 a 10 com 100 pontos\n",
    "y = np.sin(x)                          # lista de ordenadas; a função sin é aplicada a cada elemento da lista x                        # lista de ordenadas; a função cos é aplicada a cada elemento da lista x\n",
    "plt.plot(x,y,'bo')  "
   ]
  },
  {
   "cell_type": "markdown",
   "id": "cfe1ea88",
   "metadata": {},
   "source": [
    "A função `linspace` do `numpy` é útil para gerar um `array` de valores igualmente espaçados."
   ]
  },
  {
   "cell_type": "code",
   "execution_count": null,
   "id": "ac3812c2",
   "metadata": {},
   "outputs": [],
   "source": [
    "# documentação sobre esta função\n",
    "?np.linspace"
   ]
  },
  {
   "cell_type": "code",
   "execution_count": null,
   "id": "99535cfe",
   "metadata": {},
   "outputs": [],
   "source": [
    "x=np.linspace(0,10,20)\n",
    "#x= np.linspace(0,10,20, endpoint=False)\n",
    "x"
   ]
  },
  {
   "cell_type": "markdown",
   "id": "4a3b4d65",
   "metadata": {},
   "source": [
    "No  cálculo da função `y = np.sin(x)`, o argumento da função `sin` é um `array`; o resultado é o cálculo do seno para cada um dos elementos do `array`; podes verificar isso imprimindo a variável $y$.\n",
    "\n",
    "Caso te interrogues da razão de meter a lista dentro de um `array`,  pensa neste como um \"embrulho\" para transformar a lista de Python num objeto do `numpy` no qual podes operar de modo algo diferente do que em listas (ver [Numpy: the absolute basics for beginners](https://numpy.org/devdocs/user/absolute_beginners.html))"
   ]
  },
  {
   "cell_type": "markdown",
   "id": "05ec24f8",
   "metadata": {},
   "source": [
    "<div class=\"alert alert-block alert-warning\">\n",
    "    <b>Exercício 2</b>\n",
    "    <p> Com base nos exemplos anteriores, escolha uma das funções pré-definidas do\n",
    "        <a href=\"https://numpy.org/doc/stable/reference/routines.math.html\"> numpy </a> e faz um gráfico da mesma; escolhe a gama de representação e põe  legendas nos eixos e um título. </p>   \n",
    "</div>"
   ]
  },
  {
   "cell_type": "code",
   "execution_count": null,
   "id": "17d72892",
   "metadata": {},
   "outputs": [],
   "source": [
    "# faz aqui o teu exercício.\n"
   ]
  },
  {
   "cell_type": "markdown",
   "id": "d141d2fa",
   "metadata": {},
   "source": [
    "### Importação de dados\n",
    "Antes de podermos representar dados experimentais, temos de os importar para python. Vamos exemplficar com uma ficheiro de dados retirados da PORDATA ([ref. 1](#ref1)); antes de executar a célula seguinte abre o ficheiro `nascimentos.csv` da pasta `Dados` cm o excel ou com um editor de texto. "
   ]
  },
  {
   "cell_type": "code",
   "execution_count": null,
   "id": "bc9fdd85",
   "metadata": {},
   "outputs": [],
   "source": [
    "nascimentos=np.loadtxt(\"Dados/nascimentos.csv\", skiprows=1,delimiter=\"\\t\")\n",
    "nascimentos"
   ]
  },
  {
   "cell_type": "markdown",
   "id": "9ab399df",
   "metadata": {},
   "source": [
    "A variável `nascimentos` contém um objeto  `array` com um único argumento, uma lista Python de 63 elementos, em que cada objeto é por sua vez uma lista de 3 elementos; este é um modo muito frequente de lidar com várias colunas de dados; neste caso, a primeira coluna é o `ano` a segundo o número anual de nascimentos, e o terceiro o número anual de nascimentos ocorridos fora de casamento. "
   ]
  },
  {
   "cell_type": "code",
   "execution_count": null,
   "id": "0a4154d0",
   "metadata": {},
   "outputs": [],
   "source": [
    "print(len(nascimentos))\n",
    "nascimentos[0]"
   ]
  },
  {
   "cell_type": "markdown",
   "id": "a2effc8f",
   "metadata": {},
   "source": [
    "A célula seguinte mostra como podes obter:\n",
    "- os três primeiros elementos de `nascimentos`;\n",
    "- Os três primeiros elementos da primeira coluna de nascimentos;\n",
    "\n",
    "Consulta  [Numpy: the absolute basics for beginners](https://numpy.org/devdocs/user/absolute_beginners.html) para mais informações."
   ]
  },
  {
   "cell_type": "code",
   "execution_count": null,
   "id": "50ec58b6",
   "metadata": {},
   "outputs": [],
   "source": [
    "print(nascimentos[0:3])\n",
    "print(nascimentos[:3,0])"
   ]
  },
  {
   "cell_type": "code",
   "execution_count": null,
   "id": "05e3da7f",
   "metadata": {},
   "outputs": [],
   "source": [
    "anos=nascimentos[:,0]                        # array com todos os elementos da coluna 0\n",
    "nasc=nascimentos[:,1]                        # array com todos os elementos da coluna 1       \n",
    "plt.figure(figsize=(6,3))\n",
    "plt.plot(anos,nasc,'b+')\n",
    "plt.grid(True)\n",
    "plt.xlabel(\"ano\")\n",
    "plt.ylabel(\"nascimentos\")\n",
    "plt.title(\"Nascimentos anuais em Portugal (fonte:PORDATA)\"); "
   ]
  },
  {
   "cell_type": "markdown",
   "id": "a3e79de6",
   "metadata": {},
   "source": [
    "Seguidamente vamos mostrar como podemos fazer um ajuste linear a estes dados para tirar uma tendência média. Usaremos a função do `numpy`, `polyfit(x,y,n)` que ajusta aos dados $x_i,y_i$ um polinómio de grau $n$, $y_{ajuste}=a_{0}x^{n}+a_{1}x^{n-1}\\dots+a_{n-1}$, determinando os coeficientes $a_0,\\dots,a_{n-1}$ pelo método dos mínimos quadrados.Este método consiste em minimizar a soma dos quadrados dos desvios do ajuste aos dados\n",
    "\n",
    "$$ \n",
    "                 S=\\sum_{i}\\left( y_i -y_{ajuste}(x_i)\\right)^2\n",
    "$$\n",
    "Para $n=1$ é o método de regressão linear. \n",
    "\n",
    "$$ \n",
    "y_{ajuste}=a_0 x+a_1\n",
    "$$\n",
    "\n",
    "A função do `np.polyfit` devolve os coeficientes $a_0$ e $a_1$ que minimizam $S$ "
   ]
  },
  {
   "cell_type": "code",
   "execution_count": null,
   "id": "2ddc5a67",
   "metadata": {},
   "outputs": [],
   "source": [
    "# função de ajuste polinomial. Devolve os coeficientes do polinómio como array em ordem decrescente do grau\n",
    "np.polyfit(anos,nasc,deg=1)"
   ]
  },
  {
   "cell_type": "code",
   "execution_count": null,
   "id": "b38b7408",
   "metadata": {},
   "outputs": [],
   "source": [
    "# Polinomio de ajuste\n",
    "def n_fit1(x):\n",
    "    a,b= np.polyfit(anos,nasc,1)  # exemplo de unpacking\n",
    "    return(a*x+b)"
   ]
  },
  {
   "cell_type": "markdown",
   "id": "76cfeedd",
   "metadata": {},
   "source": [
    "Na figura seguinte vamos usar um procedimento mais explícito de construção da figura, que nos permite inserir dois gráfico na mesma área de um figura: \n",
    "- `fig,axes=plt.subplots(figsize=(6,4))`: cria  uma figura ( uma área vazia de 6 por 4) e um sistema de eixos onde podemos construir uma gráfico;\n",
    "- `z=n_fit1(anos)`: calcula os valores da função de ajuste para cada valor da variável independente;\n",
    "- as linhas seguintes referem-se ao gráfico a criar em `axes`;\n",
    "- `residuos=nasc-n_fit1(anos)`: calcula os resíduos, diferenças entre os valores da variável dependente o o valor dado pelo ajuste;\n",
    "- `axes2=fig.add_axes([0.52,0.52,.3,.3])`: cria um segundo sistema de eixoa para o segundo gráfico: Localizado no pontos de coordenadas $(0.52,0.52)$ e de dimensões $(0.3,0.3) $ (assumindo a figura com altura e largura 1); \n",
    "- As linhas seguintes criam o gráfico em `axes2`. "
   ]
  },
  {
   "cell_type": "code",
   "execution_count": null,
   "id": "3c3912dd",
   "metadata": {},
   "outputs": [],
   "source": [
    "fig,axes=plt.subplots(figsize=(6,4))\n",
    "z=n_fit1(anos)\n",
    "axes.plot(anos, nasc,'ro',anos,z,'b-',ms=3)\n",
    "axes.grid(True)\n",
    "axes.set_xlabel(\"ano\")\n",
    "axes.set_ylabel(\"nascimentos\");\n",
    "# segundo gráfico\n",
    "residuos=nasc-n_fit1(anos)\n",
    "axes2=fig.add_axes([0.52,0.52,.3,.3])\n",
    "axes2.plot(anos,residuos,'ws',ms=2)\n",
    "axes2.set_facecolor('tab:gray')\n",
    "axes2.set_title(\"resíduos\")\n",
    "axes2.grid(True)"
   ]
  },
  {
   "cell_type": "markdown",
   "id": "e8957caf",
   "metadata": {},
   "source": [
    "<div class=\"alert alert-block alert-warning\">\n",
    "    <b>Exercício 3</b>\n",
    "    <p> Se reparares no gráfico dos resíduos, verás que estes tendem a ser positivos nos extremos e negativos no centro. Isso indica que há uma curvatura sistemática nos dados. O exercício consiste em repetir a análise feita, mas agora ajustando a um polinómio de segundo grau. O objetivo final é escrever o código que gera  a figura seguinte:</p>   \n",
    "</div>"
   ]
  },
  {
   "cell_type": "markdown",
   "id": "f18d8b15",
   "metadata": {},
   "source": [
    "<img src=\"Images/grafico3.png\" width=\"600\" height=\"400\" align=\"center\"/> "
   ]
  },
  {
   "cell_type": "code",
   "execution_count": null,
   "id": "55b34e99",
   "metadata": {},
   "outputs": [],
   "source": [
    "# faz aqui o teu exercício.\n"
   ]
  },
  {
   "cell_type": "markdown",
   "id": "c93b1f2e",
   "metadata": {},
   "source": [
    "O nosso último exemplo mostra como podemos representar vários conjuntos de dados num mesmo gráfico e inserir uma legenda. Vamos continuar a usar dados da PORDATA.O ficheiro a carregar é `PORDATA_Por-sexo.csv` na pasta `Dados`."
   ]
  },
  {
   "cell_type": "code",
   "execution_count": null,
   "id": "83fdf0f7",
   "metadata": {},
   "outputs": [],
   "source": [
    "populacao=np.loadtxt(\"Dados/PORDATA_Por-sexo.csv\",delimiter=\"\\t\",skiprows=1)"
   ]
  },
  {
   "cell_type": "code",
   "execution_count": null,
   "id": "2439b5e9",
   "metadata": {},
   "outputs": [],
   "source": [
    "ano=populacao[:,0]\n",
    "total=populacao[:,1]\n",
    "H=populacao[:,2]\n",
    "M=populacao[:,3]\n",
    "plt.figure(figsize=(6,3))\n",
    "plt.plot(ano, total, label=\"total\")       # serie de dados com etiqueta\n",
    "plt.plot(ano,M, label=\"mulheres\")\n",
    "plt.plot(ano,H, label=\"homens\")\n",
    "plt.legend()                              # legenda; escolha de posição automática. \n",
    "plt.grid(True)\n",
    "plt.xlabel(\"ano\")\n",
    "plt.title(\"População Portuguesa em milhares (fonte: PORDATA)\")"
   ]
  },
  {
   "cell_type": "markdown",
   "id": "d0e7f107",
   "metadata": {},
   "source": [
    "### Gráfico de Barras e Histograma\n",
    "os dois gráficos seguintes são construídos sobre dados obtidos na [ref. 2](#ref2). Mostram a temperatura global do planeta desde 1850 a 2023, subtraída da média de temperaturas de  1901 a 2000. "
   ]
  },
  {
   "cell_type": "code",
   "execution_count": null,
   "id": "77e8fd05",
   "metadata": {},
   "outputs": [],
   "source": [
    "temps=np.loadtxt(\"Dados/dataTemperature.csv\", skiprows=5, delimiter=\",\")"
   ]
  },
  {
   "cell_type": "code",
   "execution_count": null,
   "id": "ff0bfdb1",
   "metadata": {},
   "outputs": [],
   "source": [
    "plt.bar(temps[:,0],temps[:,1],color='brown')\n",
    "plt.grid(True)\n",
    "plt.xlabel (\"ano\")\n",
    "plt.ylabel(\"anomalia /K\")"
   ]
  },
  {
   "cell_type": "markdown",
   "id": "4c53182c",
   "metadata": {},
   "source": [
    "Com séries temporais deste tipo é comum queremos saber como se distribuem os valores da grandeza. Para isso fazemos uma _histograma_. Isto é, dividimos a gama de variação da grandeza, aproximadamente de $[-0.5,1.25]$, em $N$ intervalos menores, $[y_i ,y_{i+1}]$, $i=0,\\dots,N-1$ e, em cada intervalo, contamos o número de observações da temperatura nesse intervalo. O `pyplot` tem uma função `hist` que, dada a série temporal e o número de intervalos, devolve as contagens, os limites inferiores dos intervalos,  e faz um gráfico do histograma. "
   ]
  },
  {
   "cell_type": "code",
   "execution_count": null,
   "id": "45a9970f",
   "metadata": {},
   "outputs": [],
   "source": [
    "counts, bins, fig= plt.hist(temps[:,1],bins=15,rwidth=.9)\n",
    "plt.grid(True)\n",
    "plt.ylabel(\"count\")\n",
    "plt.xlabel (\"anomaly\")"
   ]
  },
  {
   "cell_type": "code",
   "execution_count": null,
   "id": "88cd1560",
   "metadata": {},
   "outputs": [],
   "source": [
    "np.set_printoptions(precision=3)\n",
    "print(\"altura das barras:\",counts)\n",
    "print(\"bins:             \", bins)"
   ]
  },
  {
   "cell_type": "markdown",
   "id": "69bdd42f",
   "metadata": {},
   "source": [
    "Termina aqui  esta introdução. Se quiseres explorar as imensas potencialidades do `matplotlib` consulta a documentação desta [biblioteca gráfica](https://matplotlib.org/).\n"
   ]
  },
  {
   "cell_type": "markdown",
   "id": "8daf88f6",
   "metadata": {},
   "source": [
    "### Informação suplementar\n",
    "Esta secção não é essencial e pode ser omitida. \n",
    "\n",
    "A função que usamos no ajuste, é uma versão antiga, ainda suportada, mas cujo uso não é recomendado. Recorremos a ela por simplicidade. A célula seguinte faz o mesmo tipo de ajuste mas a sintaxe é totalmente diferente . Na segunda linha é criada uma matriz de 3 colunas, `X`,  em que cada coluna corresponde a uma potência da variável independente, `anos`. A 3ª linha constrói o ajuste  de segundo grau, sendo o primeiro argumento os valores da variável dependente e o segundo a matriz `X`. As linhas seguintes mostram como obter informação sobre o ajuste. Neste caso obtemos os coeficientes do ajuste e as respetivas incertezas, assim como variada informação estatística.\n",
    "\n",
    "Neste módulo a ordem dos coeficentes é a inversa da obtida na função `np.polyfit`. Nesta formulação as colunas da matriz `X`  não estão limitadas a potências da variável independente; podem ser qualquer função da mesma. "
   ]
  },
  {
   "cell_type": "code",
   "execution_count": null,
   "id": "bf8a589e",
   "metadata": {},
   "outputs": [],
   "source": [
    "import statsmodels.api as sm\n",
    "X = np.column_stack((anos**0,anos,anos**2))\n",
    "model = sm.OLS(nasc, X)\n",
    "results = model.fit()\n",
    "print(\"coefs:\" ,results.params)\n",
    "print(\"Incertezas:\", results.bse)\n",
    "print()\n",
    "print(results.summary())"
   ]
  },
  {
   "cell_type": "markdown",
   "id": "069f8b23",
   "metadata": {},
   "source": [
    "### Referências\n",
    "\n",
    "1. PORDATA, Estatísticas sobre Portugal e a Europa,  Fundação Francisco Manuel dos Santos, [https://www.pordata.pt/portugal](https://www.pordata.pt/portugal). <a id='ref1'></a>\n",
    "2. NOAA National Centers for Environmental information, Climate at a Glance: Global Time Series, published November 2023, retrieved on December 11, 2023 from [https://www.ncei.noaa.gov/access/monitoring/climate-at-a-glance/global/time-series](https://www.ncei.noaa.gov/access/monitoring/climate-at-a-glance/global/time-series) <a id='ref2'></a>"
   ]
  },
  {
   "cell_type": "code",
   "execution_count": null,
   "id": "f5ebe76c",
   "metadata": {},
   "outputs": [],
   "source": []
  }
 ],
 "metadata": {
  "kernelspec": {
   "display_name": "Python 3 (ipykernel)",
   "language": "python",
   "name": "python3"
  },
  "language_info": {
   "codemirror_mode": {
    "name": "ipython",
    "version": 3
   },
   "file_extension": ".py",
   "mimetype": "text/x-python",
   "name": "python",
   "nbconvert_exporter": "python",
   "pygments_lexer": "ipython3",
   "version": "3.9.13"
  }
 },
 "nbformat": 4,
 "nbformat_minor": 5
}
