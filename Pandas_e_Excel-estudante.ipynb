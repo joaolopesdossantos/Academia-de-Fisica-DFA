{
 "cells": [
  {
   "cell_type": "markdown",
   "id": "ac8f9acb",
   "metadata": {},
   "source": [
    " <img src=\"Images/fc.pos.jpg\" class=\"bg-primary\" align = 'left' width=200/>"
   ]
  },
  {
   "cell_type": "markdown",
   "id": "8976e6e9",
   "metadata": {},
   "source": [
    "\n",
    "# Academia de Física 2025\n",
    "\n",
    "## Pandas e Excel\n",
    "A importação de ficheiros usando a função `loadtxt()` do `numpy`, nem sempre é possível ou o mais conveniente. No acesso a bases de dados acontece frequentemente que os dados não estão completos ou com o fomato adequado. A biblioteca `pandas` foi concebida para lidar com múltiplos formatos de ficheiros e dados. No `pandas` é possível ler um ficheiro Excel `.xlsx` diretamente. Contudo, na minha experiência é útil remover explicitamente todas as colunas vazias do ficheiro excel. De outro modo o panda importa-as e diz que o respetivo conteúdo é `NaN`, **N**ot **a** **N**umber."
   ]
  },
  {
   "cell_type": "code",
   "execution_count": null,
   "id": "e665aa30",
   "metadata": {},
   "outputs": [],
   "source": [
    "%matplotlib inline                                     \n",
    "import numpy as np                    # modulo numérico , essencial para trabalho cientifico; chamado\n",
    "import matplotlib.pyplot as plt"
   ]
  },
  {
   "cell_type": "code",
   "execution_count": null,
   "id": "cd484599",
   "metadata": {},
   "outputs": [],
   "source": [
    "import pandas as pd"
   ]
  },
  {
   "cell_type": "markdown",
   "id": "91f7e3ed",
   "metadata": {},
   "source": [
    "O `Pandas` tem dois tipos de estruturas de dados: `Series`, para representar sequências de dados e `DataFrames` para  tabelas de duas entradas. "
   ]
  },
  {
   "cell_type": "code",
   "execution_count": null,
   "id": "1086ea78",
   "metadata": {},
   "outputs": [],
   "source": [
    "pl=[24,45,23]\n",
    "series_pl=pd.Series(pl)\n",
    "series_pl\n"
   ]
  },
  {
   "cell_type": "markdown",
   "id": "7b852212",
   "metadata": {},
   "source": [
    "A diferença relativamente a uma lista reside no índice que é explícito, e que só por omissão é $0,\\ 1,\\dots$. Pode ser outro:"
   ]
  },
  {
   "cell_type": "code",
   "execution_count": null,
   "id": "5e0cef0e",
   "metadata": {},
   "outputs": [],
   "source": [
    "pl=[24,45,23]\n",
    "series_pl=pd.Series(pl, index=['Pedro','Paulo','Maria'])\n",
    "series_pl\n"
   ]
  },
  {
   "cell_type": "code",
   "execution_count": null,
   "id": "6bf262af",
   "metadata": {},
   "outputs": [],
   "source": [
    "print(series_pl[2])\n",
    "print(series_pl['Paulo'])\n"
   ]
  },
  {
   "cell_type": "markdown",
   "id": "c43cbbbc",
   "metadata": {},
   "source": [
    "Vejamos agora um exemplo de `DataFrame` obtido por importação de um ficheiro Excel"
   ]
  },
  {
   "cell_type": "code",
   "execution_count": null,
   "id": "0ba27c45",
   "metadata": {},
   "outputs": [],
   "source": [
    "df0=pd.read_excel(\"Dados/PORDATA_Por-sexo_VO.xlsx\")\n",
    "df0"
   ]
  },
  {
   "cell_type": "markdown",
   "id": "4edcfdc4",
   "metadata": {},
   "source": [
    "O objeto `df` é um exemplo de um `DataFrame`, a estrutura principal do pacote `pandas`. Consiste numa tabela de dados. A primeira coluna é um índice, a primeira linha contém os nomes dos dados de cada coluna. Neste exemplo só quatro colunas têm dados, mas o panda importou colunas vazias com a indicação `NaN` que significa **N**ot **a** **N**mber. Eis o que acontece se tivermos removido as colunas vazias:"
   ]
  },
  {
   "cell_type": "code",
   "execution_count": null,
   "id": "cd75f848",
   "metadata": {},
   "outputs": [],
   "source": [
    "df=pd.read_excel(\"Dados/PORDATA_Por-sexo.xlsx\")\n",
    "df"
   ]
  },
  {
   "cell_type": "markdown",
   "id": "4119cd3a",
   "metadata": {},
   "source": [
    "Podemos converter um DataFrame num `array numpy`  para prosseguir na vizualização de que demos exemplos na segunda sessão. Mas, antes disso, veremos como poderíamos remover as colunas vazias usando o `pandas`. \n",
    "\n",
    "Podemos selecionar as colunas a representar. A sintaxe é `DataFrame[\"nome_coluna\"]`. Se quisermos mais do que uma coluna podemos substituir `\"nome_coluna\"` por uma lista de nomes."
   ]
  },
  {
   "cell_type": "code",
   "execution_count": null,
   "id": "64a4f259",
   "metadata": {},
   "outputs": [],
   "source": [
    "type(df0)"
   ]
  },
  {
   "cell_type": "code",
   "execution_count": null,
   "id": "1dfd8e81",
   "metadata": {},
   "outputs": [],
   "source": [
    "df1=df0[[\"Anos\",\"Total\",\"Masculino\"]]  #seleção das colunas com os títulos das listas\n",
    "df1"
   ]
  },
  {
   "cell_type": "markdown",
   "id": "c17d509e",
   "metadata": {},
   "source": [
    "Também é possível selecionar linhas do `DataFrame`"
   ]
  },
  {
   "cell_type": "code",
   "execution_count": null,
   "id": "67a082e5",
   "metadata": {},
   "outputs": [],
   "source": [
    "df.loc[60:63]    # dataFrame com três linha apenas"
   ]
  },
  {
   "cell_type": "code",
   "execution_count": null,
   "id": "a2fa8ebf",
   "metadata": {},
   "outputs": [],
   "source": [
    "df.loc[60]  #uma linha, data series. "
   ]
  },
  {
   "cell_type": "code",
   "execution_count": null,
   "id": "eb95180f",
   "metadata": {},
   "outputs": [],
   "source": [
    "df.loc[60].name, df.loc[60].Ano,  df.loc[60].Total"
   ]
  },
  {
   "cell_type": "code",
   "execution_count": null,
   "id": "344a84be",
   "metadata": {},
   "outputs": [],
   "source": [
    "# conversão para numpy array\n",
    "df.loc[60].to_numpy()\n"
   ]
  },
  {
   "cell_type": "code",
   "execution_count": null,
   "id": "4aef0bee",
   "metadata": {},
   "outputs": [],
   "source": [
    "# transformando o DataFrame Panda num array\n",
    "df.to_numpy()"
   ]
  },
  {
   "cell_type": "markdown",
   "id": "f421bdd0",
   "metadata": {},
   "source": [
    "Depis desta conversão podemos recorrer ao `matplotlib`  para vizualizar gráficamente os dados. Mas também podemos fazer gráficos a partir diretamente do `DataFrame` usando métodos definidos no `pandas`. Quando o `plot` se aplica a um data frame, interpreta as colunas como os dados a representar e o índice como variável independente. "
   ]
  },
  {
   "cell_type": "code",
   "execution_count": null,
   "id": "faa2557f",
   "metadata": {},
   "outputs": [],
   "source": [
    "df.plot()"
   ]
  },
  {
   "cell_type": "markdown",
   "id": "c83df9f1",
   "metadata": {},
   "source": [
    "O resultado não é exatamente o desejado. Foi usada a coluna de índice  como abcissas. Mas podemos importar os dados usando o \"Ano\" com índice. "
   ]
  },
  {
   "cell_type": "code",
   "execution_count": null,
   "id": "8883cde6",
   "metadata": {},
   "outputs": [],
   "source": [
    "df1=pd.read_excel(\"Dados/PORDATA_Por-sexo.xlsx\", index_col=0)\n",
    "df1"
   ]
  },
  {
   "cell_type": "code",
   "execution_count": null,
   "id": "6fe212bb",
   "metadata": {},
   "outputs": [],
   "source": [
    "df1.plot()\n",
    "plt.title(\"População Portuguesa\")\n",
    "plt.grid(True)"
   ]
  },
  {
   "cell_type": "markdown",
   "id": "8bc2b433",
   "metadata": {},
   "source": [
    "Podemos selecionar apenas uma coluna:"
   ]
  },
  {
   "cell_type": "code",
   "execution_count": null,
   "id": "629a2811",
   "metadata": {},
   "outputs": [],
   "source": [
    "df[\"Total\"].plot()\n",
    "plt.title(\"População Portuguesa\")\n",
    "plt.grid(True)"
   ]
  },
  {
   "cell_type": "markdown",
   "id": "bb46969e",
   "metadata": {},
   "source": [
    "Como \"Ano\" passou a ser índice, se exportarmos para `array numpy`  a coluna \"Ano\" não é incluída."
   ]
  },
  {
   "cell_type": "code",
   "execution_count": null,
   "id": "a115d449",
   "metadata": {},
   "outputs": [],
   "source": [
    "df1.to_numpy()"
   ]
  },
  {
   "cell_type": "markdown",
   "id": "0ae0b5a1",
   "metadata": {},
   "source": [
    "os exemplos seguintes mostram como se pode manter controlo sob o aspeto dos gráficos."
   ]
  },
  {
   "cell_type": "code",
   "execution_count": null,
   "id": "f3204108",
   "metadata": {},
   "outputs": [],
   "source": [
    "df1[[\"Masculino\", \"Feminino\"]].plot(ylabel=\"milhares\", figsize=(8,4.5),\\\n",
    "                                    title=\"População Portuguesa\", grid=True);"
   ]
  },
  {
   "cell_type": "markdown",
   "id": "a966b32a",
   "metadata": {},
   "source": [
    "Ou de um modo mais parecido com a sitaxe do `PyPlot`:"
   ]
  },
  {
   "cell_type": "code",
   "execution_count": null,
   "id": "958cb81e",
   "metadata": {},
   "outputs": [],
   "source": [
    "fig=plt.figure(figsize=(8,4.5))\n",
    "ax=df1[[\"Feminino\",\"Masculino\"]].plot(color=['blue','red'], marker='o',ms=4)\n",
    "ax.set_ylabel(\"milhares\")\n",
    "ax.set_xlim(1980,2020)\n",
    "ax.set_ylim(4500,5600)\n",
    "ax.grid(True)\n",
    "ax.set_title(\"População Portuguesa\");"
   ]
  },
  {
   "cell_type": "markdown",
   "id": "685328c2",
   "metadata": {},
   "source": [
    "Um exemplo um pouco mais complexo, ilustrado por dados obtidos do site do [Eurostat](https://ec.europa.eu/eurostat).  "
   ]
  },
  {
   "cell_type": "code",
   "execution_count": null,
   "id": "2df41ea1",
   "metadata": {},
   "outputs": [],
   "source": [
    "eurostat=pd.read_excel('Dados/educ_uoe_grad01.xlsx')\n",
    "eurostat"
   ]
  },
  {
   "cell_type": "markdown",
   "id": "d40d53e6",
   "metadata": {},
   "source": [
    "Podemos representar os dados de uma mais linhas na célula seguinte. Como as colunas com dados alternan com colunas NaN usamos a sintaxe x:y:2 para obter os dados $[x,x+2,x+4\\dots ]$ das séries que constituem cada linha da matriz."
   ]
  },
  {
   "cell_type": "code",
   "execution_count": null,
   "id": "04e34364",
   "metadata": {},
   "outputs": [],
   "source": [
    "eurostat.loc[24][1:21:2].plot(marker='o', linewidth=1, label='Portugal') # row 24 as a Series\n",
    "eurostat.loc[25][1:21:2].plot(marker='o', linewidth=1, label='Romania')\n",
    "eurostat.loc[9][1:21:2].plot(marker='o', linewidth=1, label='Ireland')\n",
    "plt.grid(True)\n",
    "plt.xlabel(\"Year\")\n",
    "plt.ylabel(\"graduates\")\n",
    "plt.legend()"
   ]
  },
  {
   "cell_type": "markdown",
   "id": "348d99bc",
   "metadata": {},
   "source": [
    "### Referências\n",
    "\n",
    " 1. Pandas tutorial,  W3Schools [Pandas tutorial](http://www.w3schools.com/python/pandas/)\n",
    " 2. PORDATA, Estatísticas sobre Portugal e a Europa,  Fundação Francisco Manuel dos Santos, [https://www.pordata.pt/portugal](https://www.pordata.pt/portugal). <a id='ref1'></a>\n",
    " 3.EUROSTAT, European Union, [Graduates by education level, programme orientation, sex and field of education](https://ec.europa.eu/eurostat/databrowser/view/educ_uoe_grad02/default/table?lang=en&category=educ.educ_outc.educ_uoe_grad)"
   ]
  },
  {
   "cell_type": "code",
   "execution_count": null,
   "id": "3fc11cdc",
   "metadata": {},
   "outputs": [],
   "source": []
  }
 ],
 "metadata": {
  "kernelspec": {
   "display_name": "Python 3 (ipykernel)",
   "language": "python",
   "name": "python3"
  },
  "language_info": {
   "codemirror_mode": {
    "name": "ipython",
    "version": 3
   },
   "file_extension": ".py",
   "mimetype": "text/x-python",
   "name": "python",
   "nbconvert_exporter": "python",
   "pygments_lexer": "ipython3",
   "version": "3.9.13"
  }
 },
 "nbformat": 4,
 "nbformat_minor": 5
}
