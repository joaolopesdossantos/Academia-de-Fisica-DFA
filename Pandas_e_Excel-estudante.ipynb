{
 "cells": [
  {
   "cell_type": "markdown",
   "id": "ac8f9acb",
   "metadata": {},
   "source": [
    " <img src=\"Images/fc.pos.jpg\" class=\"bg-primary\" align = 'left' width=200/>"
   ]
  },
  {
   "cell_type": "markdown",
   "id": "8976e6e9",
   "metadata": {},
   "source": [
    "\n",
    "# Academia de Física 2024\n",
    "\n",
    "## Excel e Pandas\n",
    "No windows nem sempre possível importar ficheiros excel convertidos em CSV usando a função `loadtxt()` do `numpy`. Uma maneira de o fazer é usar o pacote `pandas` concebido para lidar com múltiplos formatos de ficheiros e dados. No `pandas` é possível ler um ficheiro `.xlsx` diretamente. Contudo, na minha experiência é útil remover explicitamente todas as linhas e colunas vazias do ficheiro excel. De outro modo o panda importa-as e diz que o respetivo conteúdo é `NaN` , *not a number* . O exemplo seguinte mostra como podemos importar uma ficheiro excel descarregado da `PORDATA` depois de remover todas as linhas e colunas que não interessam (incluindo as vazias)   "
   ]
  },
  {
   "cell_type": "code",
   "execution_count": null,
   "id": "e665aa30",
   "metadata": {},
   "outputs": [],
   "source": [
    "%matplotlib inline                                     \n",
    "import numpy as np                    # modulo numérico , essencial para trabalho cientifico; chamado\n",
    "import matplotlib.pyplot as plt"
   ]
  },
  {
   "cell_type": "code",
   "execution_count": null,
   "id": "cd484599",
   "metadata": {},
   "outputs": [],
   "source": [
    "import pandas as pd"
   ]
  },
  {
   "cell_type": "code",
   "execution_count": null,
   "id": "0ba27c45",
   "metadata": {},
   "outputs": [],
   "source": [
    "df=pd.read_excel(\"Dados/PORDATA_Por-sexo.xlsx\")\n",
    "df"
   ]
  },
  {
   "cell_type": "markdown",
   "id": "675396d6",
   "metadata": {},
   "source": [
    "Eis o que acontece se não removermos colunas vazias:"
   ]
  },
  {
   "cell_type": "code",
   "execution_count": null,
   "id": "cd75f848",
   "metadata": {},
   "outputs": [],
   "source": [
    "df3=pd.read_excel(\"Dados/PORDATA_Por-sexo_VO.xlsx\")\n",
    "df3"
   ]
  },
  {
   "cell_type": "markdown",
   "id": "4119cd3a",
   "metadata": {},
   "source": [
    "O objeto `df` é um exemplo de um `DataFrame`, a estrutura principal do pacote `pandas`. Consiste numa tabela de dados. A primeira coluna é um índice, a primeira linha contém os nomes dos dados de cada coluna. Podemos converter um DataFrame num `array numpy`  para prosseguir na vizualização de que demos exemplos na segunda sessão. "
   ]
  },
  {
   "cell_type": "code",
   "execution_count": null,
   "id": "64a4f259",
   "metadata": {},
   "outputs": [],
   "source": [
    "type(df)"
   ]
  },
  {
   "cell_type": "code",
   "execution_count": null,
   "id": "4aef0bee",
   "metadata": {},
   "outputs": [],
   "source": [
    "# transformando o DataFrame Panda num array\n",
    "df.to_numpy()"
   ]
  },
  {
   "cell_type": "markdown",
   "id": "f421bdd0",
   "metadata": {},
   "source": [
    "Mas também podemos fazer gráficos a partir diretamente do `DataFrame` usando métodos definidos no `pandas`."
   ]
  },
  {
   "cell_type": "code",
   "execution_count": null,
   "id": "faa2557f",
   "metadata": {},
   "outputs": [],
   "source": [
    "df.plot()"
   ]
  },
  {
   "cell_type": "markdown",
   "id": "c83df9f1",
   "metadata": {},
   "source": [
    "O resultado não é exatamente o desejado. Foi usada a coluna de índice  como abcissas. Mas podemos importar os dados usando o \"Ano\" com índice. "
   ]
  },
  {
   "cell_type": "code",
   "execution_count": null,
   "id": "8883cde6",
   "metadata": {},
   "outputs": [],
   "source": [
    "df1=pd.read_excel(\"Dados/PORDATA_Por-sexo.xlsx\", index_col=0)\n",
    "df1"
   ]
  },
  {
   "cell_type": "code",
   "execution_count": null,
   "id": "6fe212bb",
   "metadata": {},
   "outputs": [],
   "source": [
    "df1.plot()\n",
    "plt.title(\"População Portuguesa\")\n",
    "plt.grid(True)"
   ]
  },
  {
   "cell_type": "markdown",
   "id": "8bc2b433",
   "metadata": {},
   "source": [
    "Podemos selecionar as colunas a representar. A sintaxe é `DataFrame[\"nome_coluna\"]`. Se quisermos mais do que uma coluna podemos substituir `\"nome_coluna\"` por uma lista de nomes."
   ]
  },
  {
   "cell_type": "code",
   "execution_count": null,
   "id": "629a2811",
   "metadata": {},
   "outputs": [],
   "source": [
    "df1[\"Total\"].plot()\n",
    "plt.title(\"População Portuguesa\")\n",
    "plt.grid(True)"
   ]
  },
  {
   "cell_type": "markdown",
   "id": "bb46969e",
   "metadata": {},
   "source": [
    "Como \"Ano\" passou a ser índice, se exportarmos para `array numpy`  a coluna \"Ano\" não é incluída."
   ]
  },
  {
   "cell_type": "code",
   "execution_count": null,
   "id": "a115d449",
   "metadata": {},
   "outputs": [],
   "source": [
    "df1.to_numpy()"
   ]
  },
  {
   "cell_type": "markdown",
   "id": "0ae0b5a1",
   "metadata": {},
   "source": [
    "os exemplos seguintes mostram como se pode manter controlo sob o aspeto dos gráficos."
   ]
  },
  {
   "cell_type": "code",
   "execution_count": null,
   "id": "f3204108",
   "metadata": {},
   "outputs": [],
   "source": [
    "df1[[\"Masculino\", \"Feminino\"]].plot(ylabel=\"milhares\", figsize=(8,4.5), title=\"População Portuguesa\", grid=True);"
   ]
  },
  {
   "cell_type": "code",
   "execution_count": null,
   "id": "853718b0",
   "metadata": {},
   "outputs": [],
   "source": [
    "axes=df1[\"Masculino\"].plot(figsize=(8,4.5), ylabel=\"milhares\" ,color='red', label=\"Homens\")\n",
    "df1[\"Feminino\"].plot(color='blue', label=\"Mulheres\")\n",
    "axes.set_xlim(1980,2020)\n",
    "axes.grid(True)\n",
    "axes.legend()\n",
    "axes.set_title(\"População Portuguesa\")"
   ]
  },
  {
   "cell_type": "code",
   "execution_count": null,
   "id": "d2138430",
   "metadata": {},
   "outputs": [],
   "source": []
  }
 ],
 "metadata": {
  "kernelspec": {
   "display_name": "Python 3 (ipykernel)",
   "language": "python",
   "name": "python3"
  },
  "language_info": {
   "codemirror_mode": {
    "name": "ipython",
    "version": 3
   },
   "file_extension": ".py",
   "mimetype": "text/x-python",
   "name": "python",
   "nbconvert_exporter": "python",
   "pygments_lexer": "ipython3",
   "version": "3.9.13"
  }
 },
 "nbformat": 4,
 "nbformat_minor": 5
}
