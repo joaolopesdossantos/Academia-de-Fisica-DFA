{
 "cells": [
  {
   "cell_type": "markdown",
   "id": "ac8f9acb",
   "metadata": {},
   "source": [
    " <img src=\"Images/fc.pos.jpg\" class=\"bg-primary\" align = 'left' width=200/>"
   ]
  },
  {
   "cell_type": "markdown",
   "id": "8976e6e9",
   "metadata": {},
   "source": [
    "\n",
    "# Academia de Física 2025\n",
    "Neste notebook mostramos um exemplo de análise de dados usando as facilidades do `Pandas`.\n",
    "A experiência foi realizada num projeto com estudantes do secundário, [projeto Faraday](http://www.fc.up.pt/faraday).\n",
    "\n",
    "### Descrição da experiência\n",
    "\n",
    "O esquema da experiência está representado na figura:\n",
    "\n",
    "\n",
    "\n",
    "<img src=\"Images/queda.png\" width=400 align=center />\n",
    "\n",
    "Um pequeno cilindro desce em queda livre e passa numa *photogate* (célula fotoelétrica) ligada a um cronómetro; este regista o tempo, $\\Delta t$,  durante o qual o cilindro interrompe o feixe.\n",
    "A velocidade do cilindro na photogate é dada por \n",
    "\n",
    "$$ v=\\frac{d_c}{\\Delta t}$$\n",
    "\n",
    "em que $d_c=5.07$ cm é a altura do cilindro. De acordo com a lei de conservação de energia\n",
    "\n",
    "$$ \\frac{1}{2}mv^2=mgh$$ \n",
    "    \n",
    "em que $h$ é a distância de queda. Ou \n",
    "\n",
    "$$\n",
    "v^2(h)=2gh\n",
    "$$\n",
    "\n",
    "É esta relação que foi estudada, variando $h$. Vamos carregar os dados de um ficheiro excel e proceder à análise. Veremos que a resistância do ar afeta os resultados da experiência."
   ]
  },
  {
   "cell_type": "code",
   "execution_count": null,
   "id": "e665aa30",
   "metadata": {},
   "outputs": [],
   "source": [
    "%matplotlib inline                                     \n",
    "import numpy as np                    # modulo numérico , essencial para trabalho cientifico; chamado\n",
    "import matplotlib.pyplot as plt\n",
    "import pandas as pd"
   ]
  },
  {
   "cell_type": "markdown",
   "id": "c43cbbbc",
   "metadata": {},
   "source": [
    "Os dados estão no ficheiro `queda_cilindro.xls`  na pasta `Dados` \n",
    "Estão em 7 colunas. A primeira é a altura de queda do cilindro. As seis seguintes  são as medições dos tempos de passagem do cilindro numa photogate para cada altura. A altura do cilindro é de 5.07 cm. "
   ]
  },
  {
   "cell_type": "code",
   "execution_count": null,
   "id": "8a61239c",
   "metadata": {},
   "outputs": [],
   "source": [
    "alt_cil=.0507\n",
    "df0=pd.read_excel(\"Dados/queda_cilindro.xls\")\n",
    "df0"
   ]
  },
  {
   "cell_type": "markdown",
   "id": "4edcfdc4",
   "metadata": {},
   "source": [
    "Acontece que a altura foi medida entre o fundo do cilindro na posição inicial e a photogate. A altura efetiva de queda, para a velocidade medida pela photogate,  é esta altura mais metade do comprimento do cilindro. Não precisamos de ir ao `Excel`  fazer esta alteração. "
   ]
  },
  {
   "cell_type": "code",
   "execution_count": null,
   "id": "c61787d3",
   "metadata": {},
   "outputs": [],
   "source": [
    "df0[\"altura medida\"]=df0[\"altura medida\"]+alt_cil/2\n",
    "df0"
   ]
  },
  {
   "cell_type": "markdown",
   "id": "7e4b6b12",
   "metadata": {},
   "source": [
    "Agora juntamos um coluna com a média de tempos para cada altura e outra com as velocidades. Recorda que para aceder a uma linha de um data frame usamos `dataframe.loc()`. "
   ]
  },
  {
   "cell_type": "code",
   "execution_count": null,
   "id": "2d541ea3",
   "metadata": {},
   "outputs": [],
   "source": [
    "# tempos medios e velocidades\n",
    "avg_times=np.zeros(7,float)   # lista para os tempos\n",
    "for r in range(7):\n",
    "    avg_times[r]=np.average(df0.loc[r][1:7])        # elemento 0 da linha é altura\n",
    "#    \n",
    "df0[\"t_medio\"]=avg_times                           # junta um coluna de nome t_medio\n",
    "df0[\"velocs\"]=alt_cil/avg_times                    # junta uma coluna de nome velocs\n",
    "df0"
   ]
  },
  {
   "cell_type": "markdown",
   "id": "bbeb5175",
   "metadata": {},
   "source": [
    "Como vês, na linha de indice 5 o cálculo falhou porque falta um dado: só foram registados 5 tempos e não 6. "
   ]
  },
  {
   "cell_type": "markdown",
   "id": "779471be",
   "metadata": {},
   "source": [
    "<div class=\"alert alert-block alert-warning\">\n",
    "    <b>Exercício 1</b>\n",
    "    <p> Vais ter de modificar o código acima; quando o índice $r=5$ a média só pode incluir as colunas 1 a 5. Vê o exemplo da instrução `if... else` e adapta-a para conseguires o tempo médio também na linha 5.</p>\n",
    "    \n",
    "</div>"
   ]
  },
  {
   "cell_type": "code",
   "execution_count": null,
   "id": "992ca46f",
   "metadata": {},
   "outputs": [],
   "source": [
    "for r in range(5):\n",
    "    if r==3:\n",
    "        print('XXX')\n",
    "    else:\n",
    "        print(r)\n"
   ]
  },
  {
   "cell_type": "code",
   "execution_count": null,
   "id": "bf08e060",
   "metadata": {},
   "outputs": [],
   "source": [
    "# faz aqui o teu exercício"
   ]
  },
  {
   "cell_type": "markdown",
   "id": "1ec8b293",
   "metadata": {},
   "source": [
    "<div class=\"alert alert-block alert-warning\">\n",
    "    <b>Exercício 2</b>\n",
    "    <p> Em vez de calcular o tempo médio podíamos calcular para cada tempo a velocidade $$ v_i =\\frac{d_c}{t_i}$$ e fazer a média destes valores. Junta mais uma coluna de velocidades ao <i>DataFrame</i> calculadas deste modo. </p>\n",
    "    \n",
    "</div>"
   ]
  },
  {
   "cell_type": "code",
   "execution_count": null,
   "id": "5f02c2f7",
   "metadata": {},
   "outputs": [],
   "source": [
    "# faz aqui o teu exercício"
   ]
  },
  {
   "cell_type": "markdown",
   "id": "d480ee82",
   "metadata": {},
   "source": [
    "Deverás reparar que as velocidades calculadas por estes dois métodos não são iguais. Uma questão interessante é saber qual destes métodos é correto. Não vamos discutir esta questão aqui, mas deixar apenas a indicação que,  quando a incerteza relativa dos valores calculados é pequena, a diferença entre os dois valores é bastante menor que a incerteza de cada um deles. Daqui para a frente vamos usar a primeira coluna de velocidades. Mas poderás facilmente refazer a análise usando a segunda. \n",
    "\n",
    "Antes de prosseguir vamos guardar um ficheiro excel modificado. Verifica que foi criado no teu disco um novo ficheiro."
   ]
  },
  {
   "cell_type": "code",
   "execution_count": null,
   "id": "d63cb6f6",
   "metadata": {},
   "outputs": [],
   "source": [
    "df0.to_excel('Dados/queda_dados.xlsx',sheet_name='queda')"
   ]
  },
  {
   "cell_type": "markdown",
   "id": "4119cd3a",
   "metadata": {},
   "source": [
    "Antes de representar os dados juntamos mais uma informação, que não requer uma medição: para uma altura de queda nula a velocidade é nula também. Para isso usamos a função `concat` (de *concatenação*), que nos permite juntar duas `Panda Series`. "
   ]
  },
  {
   "cell_type": "code",
   "execution_count": null,
   "id": "53f4c9b3",
   "metadata": {},
   "outputs": [],
   "source": [
    "alturas=pd.concat([pd.Series([0]), df0[\"altura medida\"] ])\n",
    "v2=pd.concat([pd.Series([0]), df0[\"velocs\"]**2 ])\n",
    "v2"
   ]
  },
  {
   "cell_type": "markdown",
   "id": "b72f62bf",
   "metadata": {},
   "source": [
    "Um gráfico dos dados:"
   ]
  },
  {
   "cell_type": "code",
   "execution_count": null,
   "id": "64a4f259",
   "metadata": {},
   "outputs": [],
   "source": [
    "alturas=pd.concat([pd.Series([0]), df0[\"altura medida\"] ])\n",
    "v2=pd.concat([pd.Series([0]), df0[\"velocs\"]**2 ])\n",
    "plt.plot(alturas, v2, 'b+',ms=6)\n",
    "plt.xlabel(r'$h / m$', fontsize=14)\n",
    "plt.ylabel(r'$v^2 / m^2 s^{-2}$',fontsize=14)\n",
    "plt.grid(True)"
   ]
  },
  {
   "cell_type": "markdown",
   "id": "0490920b",
   "metadata": {},
   "source": [
    "Sem resistência do ar, temos\n",
    "$$\n",
    "v^2(h) =2gh\n",
    "$$\n",
    "\n",
    "e um ajuste linear tem um declive de $2g$. \n",
    "\n",
    "Recorda a função `polyfit`  no notebook `Gráficos_estudante.ipynpb`. "
   ]
  },
  {
   "cell_type": "code",
   "execution_count": null,
   "id": "efee31a5",
   "metadata": {},
   "outputs": [],
   "source": [
    "a,b=np.polyfit(alturas,v2,1)\n",
    "a/2"
   ]
  },
  {
   "cell_type": "code",
   "execution_count": null,
   "id": "1dfd8e81",
   "metadata": {},
   "outputs": [],
   "source": [
    "def fit_lin(x):\n",
    "    a,b=np.polyfit(alturas,v2,1)\n",
    "    return a*x+b"
   ]
  },
  {
   "cell_type": "code",
   "execution_count": null,
   "id": "a00eb59e",
   "metadata": {},
   "outputs": [],
   "source": [
    "plt.plot(alturas, v2, 'b+', label='exp',ms=6)\n",
    "plt.plot(alturas, fit_lin(alturas),'r-',label='fit',lw=1)\n",
    "plt.xlabel(r'$h / m$', fontsize=14)\n",
    "plt.ylabel(r'$v^2 / m^2 s^{-2}$',fontsize=14)\n",
    "plt.legend()\n",
    "plt.grid(True)"
   ]
  },
  {
   "cell_type": "markdown",
   "id": "c17d509e",
   "metadata": {},
   "source": [
    "Se olhares cuidadosamente , verás que os dados mostram curvatura e não ajusta bem ao modelo linear. \n",
    "\n",
    "Levando em conta uma força de resistância do ar, \n",
    "\n",
    "$$f=-\\gamma v^2, $$\n",
    "\n",
    "obtém-se uma lei de movimento diferente\n",
    "\n",
    "$$ v^2 (h)=\\frac{mg}{\\gamma}\\left(1-e^{-2(\\gamma/m)h}\\right)$$ \n",
    "\n",
    "que é uma função de dois parâmetros $g$ e $\\beta=\\gamma/m$\n",
    "\n",
    "$$ v^2 (h)=\\frac{g}{\\beta}\\left(1-e^{-2\\beta h}\\right)$$ \n",
    "\n",
    "Para ajustar esta função temos que usar um ajuste não linear porque a função não é linear no parâmetro $\\beta$. A função `curve_fit` do módulo `scipy.optimize` permite encontrar os valores dos parâmetros $g,\\beta$ que minimizam a soma dos quadrados dos desvios dos dados ao modelo.\n",
    "$$\n",
    "S(g,\\beta)=\\sum_i \\left(y_i-f(x_i,g,\\beta)\\right)^2\n",
    "$$\n",
    "Esta função tem 4 argumentos:\n",
    "\n",
    " - o modelo a ajustar, $f$;\n",
    " - os valores das abcissas, as alturas $x_i$;\n",
    " - os valores das ordenadas, as velocidades ao quadrado, $y_i$;\n",
    " - como é um ajuste não-linear tem de ter uma proposta para os valores dos parâmetros para iniciar a otimização dos mesmos.\n",
    " \n",
    "Devolve os parâmetros e uma matriz, cujos elementos diagonais são estimativas das variâncias dos dois parâmetros. Vejamos como funciona neste caso. \n"
   ]
  },
  {
   "cell_type": "code",
   "execution_count": null,
   "id": "a5bce30f",
   "metadata": {},
   "outputs": [],
   "source": [
    "# carregar a função\n",
    "from scipy.optimize import curve_fit"
   ]
  },
  {
   "cell_type": "code",
   "execution_count": null,
   "id": "67a082e5",
   "metadata": {},
   "outputs": [],
   "source": [
    "# o modelo\n",
    "def f2(h,g,beta):\n",
    "    return g/beta*(1-np.exp(-2*beta*h))"
   ]
  },
  {
   "cell_type": "code",
   "execution_count": null,
   "id": "a2fa8ebf",
   "metadata": {},
   "outputs": [],
   "source": [
    "# o ajuste\n",
    "# valores propostos g=10,beta=1\n",
    "parms,cov=curve_fit(f2,alturas,v2,p0=np.array([10,1]))\n",
    "parms\n"
   ]
  },
  {
   "cell_type": "code",
   "execution_count": null,
   "id": "34683bed",
   "metadata": {},
   "outputs": [],
   "source": [
    "parms,cov=curve_fit(f2,alturas,v2,p0=np.array([10,.1]))\n",
    "parms"
   ]
  },
  {
   "cell_type": "code",
   "execution_count": null,
   "id": "881f8570",
   "metadata": {},
   "outputs": [],
   "source": [
    "cov"
   ]
  },
  {
   "cell_type": "markdown",
   "id": "371817c5",
   "metadata": {},
   "source": [
    "Podemos estimar as incertezas nos dois parâmetros:"
   ]
  },
  {
   "cell_type": "code",
   "execution_count": null,
   "id": "ab769e63",
   "metadata": {},
   "outputs": [],
   "source": [
    "std=np.sqrt(np.diag(cov))\n",
    "std"
   ]
  },
  {
   "cell_type": "markdown",
   "id": "7947411d",
   "metadata": {},
   "source": [
    "<div class=\"alert alert-block alert-warning\">\n",
    "    <b>Exercício 3</b>\n",
    "    <p> Produz um gráfico dos dados sobreposto à função de ajuste, com os parâmetros obtidos pelo método dos mínimos quadrados. O ajuste parece-te melhor que o linear?\n",
    "</div>"
   ]
  },
  {
   "cell_type": "code",
   "execution_count": null,
   "id": "e8932417",
   "metadata": {},
   "outputs": [],
   "source": [
    "# faz aqui o teu exercício"
   ]
  },
  {
   "cell_type": "markdown",
   "id": "d42c45f7",
   "metadata": {},
   "source": [
    "<div class=\"alert alert-block alert-warning\">\n",
    "    <b>Exercício 4</b>\n",
    "    <p> Refaz a análise anterior usando as velocidades calculadas com o segundo método (coluna <b>media_v</b>). Compara as diferenças dos valores obtidos para os parâmetros com a respetiva incerteza.  \n",
    "</div>"
   ]
  },
  {
   "cell_type": "code",
   "execution_count": null,
   "id": "7be56722",
   "metadata": {},
   "outputs": [],
   "source": [
    "# faz aqui o teu exercício"
   ]
  },
  {
   "cell_type": "markdown",
   "id": "348d99bc",
   "metadata": {},
   "source": [
    "### Referências\n",
    "\n",
    " 1. Pandas tutorial,  W3Schools [Pandas tutorial](http://www.w3schools.com/python/pandas/)\n",
    " "
   ]
  }
 ],
 "metadata": {
  "kernelspec": {
   "display_name": "Python 3 (ipykernel)",
   "language": "python",
   "name": "python3"
  },
  "language_info": {
   "codemirror_mode": {
    "name": "ipython",
    "version": 3
   },
   "file_extension": ".py",
   "mimetype": "text/x-python",
   "name": "python",
   "nbconvert_exporter": "python",
   "pygments_lexer": "ipython3",
   "version": "3.9.13"
  }
 },
 "nbformat": 4,
 "nbformat_minor": 5
}
