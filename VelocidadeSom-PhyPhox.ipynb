{
 "cells": [
  {
   "cell_type": "markdown",
   "id": "b2082991",
   "metadata": {},
   "source": [
    " <img src=\"Images/fc.pos.jpg\" class=\"bg-primary\" align = 'left' width=200/>"
   ]
  },
  {
   "cell_type": "markdown",
   "id": "4ff26e7a",
   "metadata": {},
   "source": [
    "# Academia de Física 2025\n",
    "## Medição de velocidade do som com dois smartphones\n"
   ]
  },
  {
   "cell_type": "markdown",
   "id": "526cfc57",
   "metadata": {},
   "source": [
    "Com dois telemóveis (tlm) smartphones,  com a app [PhyPhox](https://phyphox.org/) é possível fazer uma medição muito simples da velocidade do som. O método ([ref. 1](#ref1)) é o seguinte:\n",
    "\n",
    " 1. Nos tlms selecionar a app `Acoustic Stopwatch`. Esta app é um cronómetro que pode ser ativado por um ruído acima do nível ambiente,  como um bater de palmas. \n",
    " 2. Colocar os dois tlms a uma distância conhecida, $d$, de alguns metros. A experiência deve ser realizada por dois estudantes, cada um(a) dos quais junto de um dos tlms.\n",
    " 3. O nível de `threshold`  da app deve ser ajustado para que as palmas de cada um dos(as) estudantes ative o  `stopwatch` nos **dois** tlms.\n",
    " 4. Um dos estudante (tlm 1) bate palmas e o segundo responde logo a seguir também  batendo palmas. Os `Acoustic Stopwatch` começam a contar com as primeiras palmas e param com as segundas. Contudo, temos de levar em conta o tempo de viagem do som entre os tlms. \n",
    " 4. Como se depreende da figura, se  $\\Delta t_1$ e $\\Delta t_2$ forem os tempos medidos no tlm 1 e tlm 2, respetivamente tem-se: $$\\Delta t_1-\\Delta t_2=\\frac{2d}{c_s}$$ em que $c_s$ é a velocidade do som.  \n",
    " \n",
    "<img src ='Images/sound_measure.png' width=600 align= 'center'> \n",
    "   \n",
    " \n",
    "Um bom método experimental deve incluir:\n",
    " 1. Repetir a experiência várias vezes, para cada distância, para permitir uma estimativa da incerteza no valor medido $2d/c_s$. \n",
    " \n",
    " 2. Variar a distância. Uma representação dos tempos medidos, $\\Delta t=\\Delta t_1-\\Delta t_2$, em função das distâncias $d$, deverá ser uma reta de declive $2/c_s$  $$\\Delta t (d)=\\frac{2}{c_s}d\\$$."
   ]
  },
  {
   "cell_type": "markdown",
   "id": "8f0903c8",
   "metadata": {},
   "source": [
    "<div class=\"alert alert-block alert-warning\">\n",
    " <h3>Experiência</h3>\n",
    "    <ol> \n",
    "      <li>Junta-te a um colega para terem dois telemóveis com <b>phyphox</b> instalado. </li>\n",
    "      <li>  Escolham um conjunto de distâncias suficientes para que a diferenças entre os tempos medidos por cada telemóvel sejam significativamente superiores à precisão das medidas.</li>\n",
    "       <li> Meçam os tempos de viagem do som para várias distâncias e registem o valores num ficheiro <i>Excel</i> </li>\n",
    "        <li> Carreguem o ficheiro para um notebook com o Pandas e façam a análise e representação gráfica dos dados para determinar a velocidade do som.           \n",
    "    </ol>   \n",
    "             \n",
    "</div>"
   ]
  },
  {
   "cell_type": "markdown",
   "id": "fc88ce27",
   "metadata": {},
   "source": [
    "### Referências\n",
    "\n",
    "1. Speed of sound with a phone,  PhyPhox,RWTH Aachen University,  [https://phyphox.org/experiment/speed-of-sound/](https://phyphox.org/experiment/speed-of-sound/)<a id='ref1'></a>"
   ]
  },
  {
   "cell_type": "code",
   "execution_count": null,
   "id": "dfab3308",
   "metadata": {},
   "outputs": [],
   "source": []
  }
 ],
 "metadata": {
  "kernelspec": {
   "display_name": "Python 3 (ipykernel)",
   "language": "python",
   "name": "python3"
  },
  "language_info": {
   "codemirror_mode": {
    "name": "ipython",
    "version": 3
   },
   "file_extension": ".py",
   "mimetype": "text/x-python",
   "name": "python",
   "nbconvert_exporter": "python",
   "pygments_lexer": "ipython3",
   "version": "3.9.13"
  }
 },
 "nbformat": 4,
 "nbformat_minor": 5
}
